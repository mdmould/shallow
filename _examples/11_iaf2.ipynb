{
 "cells": [
  {
   "cell_type": "code",
   "execution_count": null,
   "id": "f68b43ad-95a0-4a55-99e0-f852e4d32356",
   "metadata": {},
   "outputs": [],
   "source": [
    "import time\n",
    "import numpy as np\n",
    "import matplotlib.pyplot as plt\n",
    "import corner\n",
    "\n",
    "import tensorflow as tf\n",
    "import tensorflow_probability as tfp\n",
    "\n",
    "tfk = tf.keras\n",
    "tfd = tfp.distributions\n",
    "tfb = tfp.bijectors\n",
    "\n",
    "seed = 42\n",
    "np.random.seed(seed)\n",
    "tf.random.set_seed(seed)"
   ]
  },
  {
   "cell_type": "code",
   "execution_count": null,
   "id": "e939037a-0682-443f-81a5-f0d1ebbe2b7f",
   "metadata": {},
   "outputs": [],
   "source": [
    "def timer(func):\n",
    "    \n",
    "    t0 = time.time()\n",
    "    x = func()\n",
    "    print(time.time() - t0)\n",
    "    \n",
    "    return x"
   ]
  },
  {
   "cell_type": "code",
   "execution_count": null,
   "id": "50b19080-29b9-4a34-926c-e1a11578ddc8",
   "metadata": {},
   "outputs": [],
   "source": [
    "# https://github.com/tensorflow/probability/issues/1410\n",
    "# https://github.com/tensorflow/probability/issues/1006#issuecomment-663141106\n",
    "\n",
    "def maf_kwargs(flow, condition):\n",
    "    \n",
    "    return {\n",
    "        b.name: {'conditional_input': condition}\n",
    "        for b in flow.bijector.bijectors if 'maf' in b.name\n",
    "        }\n",
    "\n",
    "\n",
    "def iaf_kwargs(flow, condition):\n",
    "    \n",
    "    bijectors = flow.bijector.bijectors[-1].bijector.bijectors\n",
    "    prefix = bijectors[-1].name[:-1]\n",
    "    \n",
    "    return {\n",
    "        'invert': {\n",
    "            b.name: {'conditional_input': condition}\n",
    "            for b in flow.bijector.bijectors[-1].bijector.bijectors if 'maf' in b.name\n",
    "            }\n",
    "        }"
   ]
  },
  {
   "cell_type": "code",
   "execution_count": null,
   "id": "b3af877b-9916-4c45-8d30-ff0f1fbbf000",
   "metadata": {},
   "outputs": [],
   "source": [
    "dims = 2\n",
    "cond_dims = 1"
   ]
  },
  {
   "cell_type": "code",
   "execution_count": null,
   "id": "b4eb4e23-b0a3-4c47-8e95-04a43427113c",
   "metadata": {},
   "outputs": [],
   "source": [
    "distribution = tfd.Sample(\n",
    "    tfd.Normal(loc=0., scale=1.),\n",
    "    sample_shape=[dims],\n",
    "    )\n",
    "\n",
    "output_bijectors = [\n",
    "    tfb.Scale(scale=.5),\n",
    "    tfb.Shift(shift=1.),\n",
    "    tfb.Tanh(),\n",
    "    ]\n",
    "\n",
    "bijectors = []\n",
    "for i in range(10):\n",
    "    made = tfb.AutoregressiveNetwork(\n",
    "        params=2,\n",
    "        event_shape=[dims],\n",
    "        conditional=True,\n",
    "        conditional_event_shape=[cond_dims],\n",
    "        hidden_units=[1024],\n",
    "        kernel_initializer='RandomNormal',\n",
    "        bias_initializer='RandomNormal',\n",
    "        )\n",
    "    bijectors.append(tfb.MaskedAutoregressiveFlow(made, name=f'maf{i}'))\n",
    "\n",
    "maf = tfd.TransformedDistribution(\n",
    "    distribution=distribution,\n",
    "    bijector=tfb.Chain(output_bijectors + bijectors),\n",
    "    )\n",
    "iaf = tfd.TransformedDistribution(\n",
    "    distribution=distribution,\n",
    "    bijector=tfb.Chain(output_bijectors + [tfb.Invert(tfb.Chain(bijectors), name='invert')]),\n",
    "    )"
   ]
  },
  {
   "cell_type": "code",
   "execution_count": null,
   "id": "f2358828-5c0a-4d5f-96a8-74c728aa7087",
   "metadata": {},
   "outputs": [],
   "source": [
    "n = 10000"
   ]
  },
  {
   "cell_type": "code",
   "execution_count": null,
   "id": "b4738afb-b563-4522-8364-245b8f2dcbc4",
   "metadata": {},
   "outputs": [],
   "source": [
    "kw = maf_kwargs(maf, [1.])\n",
    "sample = timer(lambda: maf.sample(n, bijector_kwargs=kw))\n",
    "lp = timer(lambda: maf.log_prob(sample, bijector_kwargs=kw))\n",
    "corner.corner(sample.numpy())\n",
    "plt.show()\n",
    "\n",
    "kw = iaf_kwargs(iaf, [1.])\n",
    "sample = timer(lambda: iaf.sample(n, bijector_kwargs=kw))\n",
    "lp = timer(lambda: iaf.log_prob(sample, bijector_kwargs=kw))\n",
    "corner.corner(sample.numpy())\n",
    "plt.show()"
   ]
  },
  {
   "cell_type": "code",
   "execution_count": null,
   "id": "c823f7b7-fa99-4ec0-800f-cdea5db2b645",
   "metadata": {},
   "outputs": [],
   "source": []
  }
 ],
 "metadata": {
  "kernelspec": {
   "display_name": "shallow",
   "language": "python",
   "name": "shallow"
  },
  "language_info": {
   "codemirror_mode": {
    "name": "ipython",
    "version": 3
   },
   "file_extension": ".py",
   "mimetype": "text/x-python",
   "name": "python",
   "nbconvert_exporter": "python",
   "pygments_lexer": "ipython3",
   "version": "3.9.13"
  }
 },
 "nbformat": 4,
 "nbformat_minor": 5
}
