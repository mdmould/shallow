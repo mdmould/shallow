{
 "cells": [
  {
   "cell_type": "code",
   "execution_count": null,
   "id": "5c2b8bdb-3752-44d3-be1d-b6fda516aac1",
   "metadata": {},
   "outputs": [],
   "source": [
    "import numpy as np\n",
    "import matplotlib.pyplot as plt\n",
    "from sklearn import datasets\n",
    "import torch\n",
    "import copy\n",
    "\n",
    "from nflows.utils import tensor2numpy, create_mid_split_binary_mask\n",
    "from nflows.distributions import StandardNormal\n",
    "from nflows.transforms import (\n",
    "    CompositeTransform, \n",
    "    InverseTransform,\n",
    "    BatchNorm,\n",
    "    PointwiseAffineTransform,\n",
    "    Tanh,\n",
    "    ReversePermutation,\n",
    "    MaskedAffineAutoregressiveTransform as MAF,\n",
    "    MaskedPiecewiseRationalQuadraticAutoregressiveTransform as RQ_NSF_AR,\n",
    "    PiecewiseRationalQuadraticCouplingTransform as RQ_NSF_C,\n",
    "    )\n",
    "from nflows.nn.nets import ResidualNet\n",
    "from nflows.flows.base import Flow\n",
    "\n",
    "device = torch.device('cpu')"
   ]
  },
  {
   "cell_type": "code",
   "execution_count": null,
   "id": "e7dbb9ed-8a9a-43a7-a95c-e994c3f821c3",
   "metadata": {},
   "outputs": [],
   "source": [
    "x, y = datasets.make_moons(1_000, noise=.1)\n",
    "plt.scatter(*x.T);"
   ]
  },
  {
   "cell_type": "markdown",
   "id": "9db6cd5d-b167-4a34-94cd-29f5b2f9516d",
   "metadata": {},
   "source": [
    "## MAF"
   ]
  },
  {
   "cell_type": "code",
   "execution_count": null,
   "id": "bd868a2d-41ff-4a18-a40c-1cf723bbf5ff",
   "metadata": {},
   "outputs": [],
   "source": [
    "num_layers = 5\n",
    "hidden_features = 100\n",
    "num_blocks = 2\n",
    "activation = torch.relu\n",
    "\n",
    "base_dist = StandardNormal(shape=[2])\n",
    "\n",
    "transforms = []\n",
    "transforms.append(PointwiseAffineTransform(shift=0., scale=1/6))\n",
    "transforms.append(InverseTransform(Tanh()))\n",
    "for _ in range(num_layers):\n",
    "    transforms.append(ReversePermutation(features=2))\n",
    "    transforms.append(MAF(\n",
    "        features=2,\n",
    "        hidden_features=hidden_features,\n",
    "        num_blocks=num_blocks,\n",
    "        activation=activation,\n",
    "        ))\n",
    "transform = CompositeTransform(transforms)\n",
    "\n",
    "flow = Flow(transform, base_dist).to(device)"
   ]
  },
  {
   "cell_type": "code",
   "execution_count": null,
   "id": "797dddc8-ae0c-44da-8695-55522bb2acd1",
   "metadata": {
    "scrolled": true,
    "tags": []
   },
   "outputs": [],
   "source": [
    "num_iter = 1000\n",
    "batch_size = 128\n",
    "learning_rate = 1e-3\n",
    "\n",
    "optimizer = torch.optim.Adam(flow.parameters(), lr=learning_rate)\n",
    "best_epoch = 0\n",
    "best_loss = np.inf\n",
    "\n",
    "for i in range(num_iter):\n",
    "    \n",
    "    x, y = datasets.make_moons(128, noise=.1)\n",
    "    x = torch.tensor(x, dtype=torch.float32).to(device)\n",
    "    \n",
    "    optimizer.zero_grad()\n",
    "    loss = -flow.log_prob(inputs=x).mean()\n",
    "    loss.backward()\n",
    "    optimizer.step()\n",
    "    \n",
    "    if loss < best_loss:\n",
    "        best_epoch = i\n",
    "        best_loss = loss\n",
    "        best_flow = copy.deepcopy(flow)\n",
    "    \n",
    "    print(i, float(loss))"
   ]
  },
  {
   "cell_type": "code",
   "execution_count": null,
   "id": "4fe2f458-a9d3-4464-b125-5e4b5c7654b9",
   "metadata": {},
   "outputs": [],
   "source": [
    "p = 3\n",
    "n = 200\n",
    "x = np.linspace(-p, p, n)\n",
    "y = np.linspace(-p, p, n)\n",
    "xgrid, ygrid = np.meshgrid(x, y)\n",
    "xy = np.concatenate(\n",
    "    [xgrid.reshape(-1, 1), ygrid.reshape(-1, 1)], axis=1, dtype=np.float32,\n",
    "    )\n",
    "with torch.no_grad():\n",
    "    zgrid = best_flow.log_prob(torch.tensor(xy)).exp().reshape(n, n)\n",
    "plt.imshow(zgrid.numpy(), origin='lower', aspect='equal', extent=(-p, p, -p, p));"
   ]
  },
  {
   "cell_type": "markdown",
   "id": "24d1bdf1-2df2-4a94-89f0-898c14b28022",
   "metadata": {},
   "source": [
    "## RQ-NSF"
   ]
  },
  {
   "cell_type": "markdown",
   "id": "d135dbc2-bd3c-439c-ab6f-6ee59f408ffd",
   "metadata": {},
   "source": [
    "### Autoregressive"
   ]
  },
  {
   "cell_type": "code",
   "execution_count": null,
   "id": "3ad8bbcc-66f9-4477-af17-b36508d5720b",
   "metadata": {},
   "outputs": [],
   "source": [
    "num_layers = 5\n",
    "hidden_features = 100\n",
    "num_blocks = 2\n",
    "activation = torch.relu\n",
    "num_bins = 10\n",
    "tails = 'linear'\n",
    "tail_bound = 5.\n",
    "\n",
    "base_dist = StandardNormal(shape=[2])\n",
    "\n",
    "transforms = []\n",
    "for _ in range(num_layers):\n",
    "    transforms.append(ReversePermutation(features=2))\n",
    "    transforms.append(RQ_NSF_AR(\n",
    "        features=2,\n",
    "        hidden_features=hidden_features,\n",
    "        num_blocks=num_blocks,\n",
    "        activation=activation,\n",
    "        num_bins=num_bins,\n",
    "        tails=tails,\n",
    "        tail_bound=tail_bound\n",
    "        ))\n",
    "transform = CompositeTransform(transforms)\n",
    "\n",
    "flow = Flow(transform, base_dist).to(device)"
   ]
  },
  {
   "cell_type": "code",
   "execution_count": null,
   "id": "086e58fb-26b6-4bc1-a10a-19fedad265f6",
   "metadata": {
    "scrolled": true,
    "tags": []
   },
   "outputs": [],
   "source": [
    "num_iter = 1000\n",
    "batch_size = 128\n",
    "learning_rate = 1e-3\n",
    "\n",
    "optimizer = torch.optim.Adam(flow.parameters(), lr=learning_rate)\n",
    "best_epoch = 0\n",
    "best_loss = np.inf\n",
    "\n",
    "for i in range(num_iter):\n",
    "    \n",
    "    x, y = datasets.make_moons(128, noise=.1)\n",
    "    x = torch.tensor(x, dtype=torch.float32).to(device)\n",
    "    \n",
    "    optimizer.zero_grad()\n",
    "    loss = -flow.log_prob(inputs=x).mean()\n",
    "    loss.backward()\n",
    "    optimizer.step()\n",
    "    \n",
    "    if loss < best_loss:\n",
    "        best_epoch = i\n",
    "        best_loss = loss\n",
    "        best_flow = copy.deepcopy(flow)\n",
    "    \n",
    "    print(i, float(loss))"
   ]
  },
  {
   "cell_type": "code",
   "execution_count": null,
   "id": "4abca4a0-9b16-41a2-9300-81c8ba033fb1",
   "metadata": {},
   "outputs": [],
   "source": [
    "p = 3\n",
    "n = 200\n",
    "x = np.linspace(-p, p, n)\n",
    "y = np.linspace(-p, p, n)\n",
    "xgrid, ygrid = np.meshgrid(x, y)\n",
    "xy = np.concatenate(\n",
    "    [xgrid.reshape(-1, 1), ygrid.reshape(-1, 1)], axis=1, dtype=np.float32,\n",
    "    )\n",
    "with torch.no_grad():\n",
    "    zgrid = best_flow.log_prob(torch.tensor(xy)).exp().reshape(n, n)\n",
    "plt.imshow(zgrid.numpy(), origin='lower', aspect='equal', extent=(-p, p, -p, p));"
   ]
  },
  {
   "cell_type": "markdown",
   "id": "d3dc546c-02ee-49a3-b1c4-dba3060690b8",
   "metadata": {},
   "source": [
    "### Coupling"
   ]
  },
  {
   "cell_type": "code",
   "execution_count": null,
   "id": "fae8bc03-8442-4322-a8ca-67102de17e17",
   "metadata": {},
   "outputs": [],
   "source": [
    "num_layers = 5\n",
    "hidden_features = 100\n",
    "num_blocks = 2\n",
    "activation = torch.relu\n",
    "num_bins = 5\n",
    "tails = 'linear'\n",
    "tail_bound = 5.\n",
    "\n",
    "base_dist = StandardNormal(shape=[2])\n",
    "\n",
    "transforms = []\n",
    "for _ in range(num_layers):\n",
    "    transforms.append(ReversePermutation(features=2))\n",
    "    transforms.append(RQ_NSF_C(\n",
    "        mask=create_mid_split_binary_mask(2),\n",
    "        transform_net_create_fn=lambda in_features, out_features: ResidualNet(\n",
    "            in_features,\n",
    "            out_features,\n",
    "            hidden_features=hidden_features,\n",
    "            context_features=None,\n",
    "            num_blocks=num_blocks,\n",
    "            activation=activation,\n",
    "            dropout_probability=0.,\n",
    "            use_batch_norm=False,\n",
    "            ),\n",
    "        num_bins=num_bins,\n",
    "        tails=tails,\n",
    "        tail_bound=tail_bound,\n",
    "        # apply_unconditional_transform=False,\n",
    "        # img_shape=None,\n",
    "        # min_bin_width=splines.rational_quadratic.DEFAULT_MIN_BIN_WIDTH,\n",
    "        # min_bin_height=splines.rational_quadratic.DEFAULT_MIN_BIN_HEIGHT,\n",
    "        # min_derivative=splines.rational_quadratic.DEFAULT_MIN_DERIVATIVE,\n",
    "        ))\n",
    "    # transforms.append(BatchNorm(2))\n",
    "transform = CompositeTransform(transforms)\n",
    "\n",
    "flow = Flow(transform, base_dist).to(device)"
   ]
  },
  {
   "cell_type": "code",
   "execution_count": null,
   "id": "2d8a56a4-98d3-4faf-abde-3ef885ae4212",
   "metadata": {
    "scrolled": true,
    "tags": []
   },
   "outputs": [],
   "source": [
    "num_iter = 1000\n",
    "batch_size = 128\n",
    "learning_rate = 1e-3\n",
    "\n",
    "optimizer = torch.optim.Adam(flow.parameters(), lr=learning_rate)\n",
    "best_epoch = 0\n",
    "best_loss = np.inf\n",
    "\n",
    "for i in range(num_iter):\n",
    "    \n",
    "    x, y = datasets.make_moons(128, noise=.1)\n",
    "    x = torch.tensor(x, dtype=torch.float32).to(device)\n",
    "    \n",
    "    optimizer.zero_grad()\n",
    "    loss = -flow.log_prob(inputs=x).mean()\n",
    "    loss.backward()\n",
    "    optimizer.step()\n",
    "    \n",
    "    if loss < best_loss:\n",
    "        best_epoch = i\n",
    "        best_loss = loss\n",
    "        best_flow = copy.deepcopy(flow)\n",
    "    \n",
    "    print(i, float(loss))"
   ]
  },
  {
   "cell_type": "code",
   "execution_count": null,
   "id": "67afb977-3059-4b3e-b9b0-289b08e7c4ee",
   "metadata": {},
   "outputs": [],
   "source": [
    "p = 3\n",
    "n = 200\n",
    "x = np.linspace(-p, p, n)\n",
    "y = np.linspace(-p, p, n)\n",
    "xgrid, ygrid = np.meshgrid(x, y)\n",
    "xy = np.concatenate(\n",
    "    [xgrid.reshape(-1, 1), ygrid.reshape(-1, 1)], axis=1, dtype=np.float32,\n",
    "    )\n",
    "with torch.no_grad():\n",
    "    zgrid = best_flow.log_prob(torch.tensor(xy)).exp().reshape(n, n)\n",
    "plt.imshow(zgrid.numpy(), origin='lower', aspect='equal', extent=(-p, p, -p, p));"
   ]
  },
  {
   "cell_type": "code",
   "execution_count": null,
   "id": "ec1b6b84-6829-4c05-bae8-0295e6f36f49",
   "metadata": {},
   "outputs": [],
   "source": []
  }
 ],
 "metadata": {
  "kernelspec": {
   "display_name": "shallow",
   "language": "python",
   "name": "shallow"
  },
  "language_info": {
   "codemirror_mode": {
    "name": "ipython",
    "version": 3
   },
   "file_extension": ".py",
   "mimetype": "text/x-python",
   "name": "python",
   "nbconvert_exporter": "python",
   "pygments_lexer": "ipython3",
   "version": "3.9.13"
  }
 },
 "nbformat": 4,
 "nbformat_minor": 5
}
