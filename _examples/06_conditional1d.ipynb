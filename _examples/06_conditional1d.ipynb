{
 "cells": [
  {
   "cell_type": "code",
   "execution_count": null,
   "id": "8c49f800-957a-46f5-99f9-6e88c17260ad",
   "metadata": {},
   "outputs": [],
   "source": [
    "import numpy as np\n",
    "import matplotlib.pyplot as plt\n",
    "from corner import corner\n",
    "import tensorflow as tf\n",
    "import tensorflow_probability as tfp\n",
    "\n",
    "tfk = tf.keras\n",
    "tfd = tfp.distributions\n",
    "tfb = tfp.bijectors"
   ]
  },
  {
   "cell_type": "code",
   "execution_count": null,
   "id": "d55d950d-8e73-49d6-97ec-da760eecd2c1",
   "metadata": {},
   "outputs": [],
   "source": [
    "def powerlaw(x, slope, lo, hi):\n",
    "    \n",
    "    return (\n",
    "        (x >= lo) * (x <= hi)\n",
    "        * x**slope\n",
    "        * (slope+1) / (hi**(slope+1) - lo**(slope+1))\n",
    "        )\n",
    "\n",
    "def sample_powerlaw(n_samples, slope, lo, hi):\n",
    "    \n",
    "    x = np.random.uniform(size=n_samples)\n",
    "    \n",
    "    return (lo**(slope+1) + x * (hi**(slope+1) - lo**(slope+1)))**(1/(slope+1))"
   ]
  },
  {
   "cell_type": "code",
   "execution_count": null,
   "id": "290ef42a-e581-4726-9ed4-90ab08ace633",
   "metadata": {},
   "outputs": [],
   "source": [
    "n_slopes = 10\n",
    "slopes = np.linspace(0, 5, n_slopes)\n",
    "\n",
    "n_samples = 10000\n",
    "lo = 0\n",
    "hi = 1\n",
    "data = sample_powerlaw(n_samples, slopes[:, None], lo, hi)\n",
    "data.shape"
   ]
  },
  {
   "cell_type": "code",
   "execution_count": null,
   "id": "79be77fe-7fe9-40c2-a969-a06ab11d0f42",
   "metadata": {},
   "outputs": [],
   "source": [
    "slopes = np.repeat(slopes[:, None], n_samples, axis=1)\n",
    "slopes.shape"
   ]
  },
  {
   "cell_type": "code",
   "execution_count": null,
   "id": "c92d88e0-d920-4a6f-bc8c-60ab2676a658",
   "metadata": {},
   "outputs": [],
   "source": [
    "data = np.concatenate(data)\n",
    "slopes = np.concatenate(slopes)\n",
    "data.shape, slopes.shape"
   ]
  },
  {
   "cell_type": "code",
   "execution_count": null,
   "id": "927748b9-1491-45dd-8b13-18c395f5a60b",
   "metadata": {},
   "outputs": [],
   "source": [
    "# https://github.com/tensorflow/probability/issues/1410\n",
    "# https://github.com/tensorflow/probability/issues/1006#issuecomment-663141106\n",
    "\n",
    "import re\n",
    "\n",
    "def make_bijector_kwargs(bijector, name_to_kwargs):\n",
    "    if hasattr(bijector, 'bijectors'):\n",
    "        return {b.name: make_bijector_kwargs(b, name_to_kwargs) for b in bijector.bijectors}\n",
    "    else:\n",
    "        for name_regex, kwargs in name_to_kwargs.items():\n",
    "            if re.match(name_regex, bijector.name):\n",
    "                return kwargs\n",
    "    return {}"
   ]
  },
  {
   "cell_type": "code",
   "execution_count": null,
   "id": "2228edcd-f5ab-49a4-9fb3-2d74349ce184",
   "metadata": {},
   "outputs": [],
   "source": [
    "n_flows = 3\n",
    "n_layers = 1\n",
    "n_units = 128\n",
    "\n",
    "activation = 'relu'\n",
    "\n",
    "bijectors = []\n",
    "\n",
    "bijectors.append(tfb.Scale(scale=.5))\n",
    "bijectors.append(tfb.Shift(shift=1.))\n",
    "bijectors.append(tfb.Tanh())\n",
    "\n",
    "for i in range(n_flows):\n",
    "    bijectors.append(tfb.MaskedAutoregressiveFlow(\n",
    "        tfb.AutoregressiveNetwork(\n",
    "            params=2,\n",
    "            event_shape=(1,),\n",
    "            conditional=True,\n",
    "            conditional_event_shape=(1,),\n",
    "            hidden_units=[n_units]*n_layers,\n",
    "            activation=activation,\n",
    "            kernel_regularizer=tf.keras.regularizers.L2(l2=1e-6),\n",
    "            bias_regularizer=tf.keras.regularizers.L2(l2=1e-6),\n",
    "            ),\n",
    "        name=f'maf{i}',\n",
    "        ))\n",
    "    #bijectors.append(tfb.BatchNormalization())\n",
    "    bijectors.append(tfb.Permute(list(reversed(range(1)))))\n",
    "    \n",
    "bijector = tfb.Chain(bijectors)\n",
    "distribution = tfd.Sample(tfd.Normal(loc=0., scale=1.), sample_shape=[1])\n",
    "nf = tfd.TransformedDistribution(distribution=distribution, bijector=bijector)\n",
    "\n",
    "x = tf.keras.Input(shape=(1,), dtype=tf.float32)\n",
    "c = tf.keras.Input(shape=(1,), dtype=tf.float32)\n",
    "\n",
    "log_prob = nf.log_prob(\n",
    "    x,\n",
    "    bijector_kwargs=make_bijector_kwargs(\n",
    "        nf.bijector, {'maf.': {'conditional_input': c}},\n",
    "        ),\n",
    "    )\n",
    "\n",
    "model = tf.keras.Model([x, c], log_prob)"
   ]
  },
  {
   "cell_type": "code",
   "execution_count": null,
   "id": "a4351ec2-3822-41df-a277-c4cfe1c3ce68",
   "metadata": {
    "scrolled": true,
    "tags": []
   },
   "outputs": [],
   "source": [
    "epochs = 20\n",
    "batch_size = 1000\n",
    "learning_rate = 1e-3\n",
    "\n",
    "model.compile(\n",
    "    optimizer=tf.optimizers.Adam(learning_rate=learning_rate),\n",
    "    loss=lambda _, log_prob: -log_prob,\n",
    "    )\n",
    "\n",
    "result = model.fit(\n",
    "    x=[data, slopes],\n",
    "    y=np.zeros(n_samples*n_slopes, dtype=np.float32),\n",
    "    epochs=epochs,\n",
    "    batch_size=batch_size,\n",
    "    shuffle=True,\n",
    "    verbose=1,\n",
    "    )"
   ]
  },
  {
   "cell_type": "code",
   "execution_count": null,
   "id": "527e9be6-664b-4425-a797-bc1b6f797cde",
   "metadata": {},
   "outputs": [],
   "source": [
    "plt.plot(result.history['loss']);"
   ]
  },
  {
   "cell_type": "code",
   "execution_count": null,
   "id": "f129fd6d-e9bf-4c70-9d6d-7d60d493e162",
   "metadata": {},
   "outputs": [],
   "source": [
    "corner(nf.sample(\n",
    "    10000,\n",
    "    bijector_kwargs=make_bijector_kwargs(\n",
    "        nf.bijector, {'maf.': {'conditional_input': 0*np.ones((10000,1))}},\n",
    "        ),\n",
    "    ).numpy());                  "
   ]
  },
  {
   "cell_type": "code",
   "execution_count": null,
   "id": "fffbca7b-df4a-413a-a7d8-d1a9ffd71cee",
   "metadata": {},
   "outputs": [],
   "source": [
    "n = 100\n",
    "\n",
    "x = np.concatenate(np.repeat(\n",
    "    np.linspace(lo-.5, hi+.5, n)[None, :], n_slopes, axis=0,\n",
    "    ))[:, None]\n",
    "c = np.concatenate(np.repeat(\n",
    "    np.unique(slopes)[:, None], n, axis=1,\n",
    "    ))[:, None]\n",
    "\n",
    "p = np.exp(nf.log_prob(\n",
    "    x,\n",
    "    bijector_kwargs=make_bijector_kwargs(\n",
    "        nf.bijector, {'maf.': {'conditional_input': c}},\n",
    "        ),\n",
    "    )).reshape(n_slopes, n)\n",
    "\n",
    "x = np.unique(x)\n",
    "c = np.unique(c)\n",
    "for i, (p_, c_) in enumerate(zip(p, c)):\n",
    "    plt.plot(x, powerlaw(x, c_, lo, hi))\n",
    "    plt.plot(x, p_)\n",
    "    plt.title(c_)\n",
    "    plt.show()"
   ]
  },
  {
   "cell_type": "code",
   "execution_count": null,
   "id": "ece94385-0bb5-4b07-8bac-457c36de334f",
   "metadata": {},
   "outputs": [],
   "source": []
  }
 ],
 "metadata": {
  "kernelspec": {
   "display_name": "probflow",
   "language": "python",
   "name": "probflow"
  },
  "language_info": {
   "codemirror_mode": {
    "name": "ipython",
    "version": 3
   },
   "file_extension": ".py",
   "mimetype": "text/x-python",
   "name": "python",
   "nbconvert_exporter": "python",
   "pygments_lexer": "ipython3",
   "version": "3.9.13"
  }
 },
 "nbformat": 4,
 "nbformat_minor": 5
}
