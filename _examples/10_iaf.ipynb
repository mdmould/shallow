{
 "cells": [
  {
   "cell_type": "code",
   "execution_count": null,
   "id": "94b3871f-8c3a-4192-a277-cba53c6733da",
   "metadata": {},
   "outputs": [],
   "source": [
    "import time\n",
    "import numpy as np\n",
    "import matplotlib.pyplot as plt\n",
    "import corner\n",
    "import tensorflow as tf\n",
    "import tensorflow_addons as tfa\n",
    "import tensorflow_probability as tfp\n",
    "\n",
    "tfk = tf.keras\n",
    "tfd = tfp.distributions\n",
    "tfb = tfp.bijectors\n",
    "\n",
    "seed = 42\n",
    "np.random.seed(seed)\n",
    "tf.random.set_seed(seed)"
   ]
  },
  {
   "cell_type": "code",
   "execution_count": null,
   "id": "f3e17906-0862-4c81-a641-6ee01f922fbb",
   "metadata": {},
   "outputs": [],
   "source": [
    "def timer(func):\n",
    "    \n",
    "    t0 = time.time()\n",
    "    x = func()\n",
    "    print(time.time() - t0)\n",
    "    \n",
    "    return x"
   ]
  },
  {
   "cell_type": "code",
   "execution_count": null,
   "id": "de1fcdd8-cb33-44e6-af50-5538e245c0a7",
   "metadata": {},
   "outputs": [],
   "source": [
    "dims = 2"
   ]
  },
  {
   "cell_type": "code",
   "execution_count": null,
   "id": "0e5d0b6a-c605-444f-9257-753d240e5c40",
   "metadata": {},
   "outputs": [],
   "source": [
    "distribution = tfd.Sample(\n",
    "    tfd.Normal(loc=0., scale=1.),\n",
    "    sample_shape=[dims],\n",
    "    )\n",
    "\n",
    "bijector = tfb.MaskedAutoregressiveFlow(\n",
    "    tfb.AutoregressiveNetwork(\n",
    "        params=2,\n",
    "        hidden_units=[512, 512],\n",
    "        ),\n",
    "    )"
   ]
  },
  {
   "cell_type": "code",
   "execution_count": null,
   "id": "d535daaf-5fb5-43e4-b4a7-9c0dfeafce07",
   "metadata": {},
   "outputs": [],
   "source": [
    "maf = tfd.TransformedDistribution(\n",
    "    distribution=distribution,\n",
    "    bijector=bijector,\n",
    "    )"
   ]
  },
  {
   "cell_type": "code",
   "execution_count": null,
   "id": "794c6e60-907f-40f5-8716-92f9fd2eb4e5",
   "metadata": {},
   "outputs": [],
   "source": [
    "sample = timer(lambda: maf.sample(10000))\n",
    "lp = timer(lambda: maf.log_prob(sample))"
   ]
  },
  {
   "cell_type": "code",
   "execution_count": null,
   "id": "6f1f323f-d65e-4e85-8d58-bdeb67ca657a",
   "metadata": {},
   "outputs": [],
   "source": [
    "iaf = tfd.TransformedDistribution(\n",
    "    distribution=distribution,\n",
    "    bijector=tfb.Invert(bijector),\n",
    "    )"
   ]
  },
  {
   "cell_type": "code",
   "execution_count": null,
   "id": "5e393639-9bc2-4a33-a4b2-ff245bc7c8d1",
   "metadata": {},
   "outputs": [],
   "source": [
    "sample = timer(lambda: iaf.sample(10000))\n",
    "lp = timer(lambda: maf.log_prob(sample))"
   ]
  },
  {
   "cell_type": "code",
   "execution_count": null,
   "id": "74f4c8e1-b8d7-4d5b-a7ef-1d80e85d57cc",
   "metadata": {},
   "outputs": [],
   "source": [
    "distribution = tfd.Sample(\n",
    "    tfd.Normal(loc=0., scale=1.),\n",
    "    sample_shape=[dims],\n",
    "    )\n",
    "\n",
    "bijectors = []\n",
    "for _ in range(2):\n",
    "    made = tfb.AutoregressiveNetwork(params=2, hidden_units=[1024])\n",
    "    bijector = tfb.MaskedAutoregressiveFlow(made)\n",
    "    bijectors.append(bijector)\n",
    "bijector = tfb.Chain(bijectors)\n",
    "\n",
    "maf = tfd.TransformedDistribution(distribution=distribution, bijector=bijector)\n",
    "iaf = tfd.TransformedDistribution(distribution=distribution, bijector=tfb.Invert(bijector))"
   ]
  },
  {
   "cell_type": "code",
   "execution_count": null,
   "id": "8b43ff94-b64d-477b-aedb-774589436c69",
   "metadata": {},
   "outputs": [],
   "source": [
    "sample = timer(lambda: maf.sample(10000))\n",
    "lp = timer(lambda: maf.log_prob(sample))\n",
    "corner.corner(sample.numpy())\n",
    "plt.show()\n",
    "\n",
    "sample = timer(lambda: iaf.sample(10000))\n",
    "lp = timer(lambda: iaf.log_prob(sample))\n",
    "corner.corner(sample.numpy())\n",
    "plt.show()"
   ]
  },
  {
   "cell_type": "code",
   "execution_count": null,
   "id": "0a9b0f55-6fe5-4de1-8209-d680e756927e",
   "metadata": {},
   "outputs": [],
   "source": [
    "# https://github.com/tensorflow/probability/issues/1410\n",
    "# https://github.com/tensorflow/probability/issues/1006#issuecomment-663141106\n",
    "\n",
    "def make_kwargs(flow, condition):\n",
    "    \n",
    "    prefix = flow.bijector.bijectors[-1].name[:-1]\n",
    "    \n",
    "    return {\n",
    "        b.name: {'conditional_input': condition}\n",
    "        for b in flow.bijector.bijectors if prefix in b.name\n",
    "        }"
   ]
  },
  {
   "cell_type": "code",
   "execution_count": null,
   "id": "a13bc84d-92b2-4432-ad02-965266be7ddb",
   "metadata": {},
   "outputs": [],
   "source": [
    "dims = 2\n",
    "cond_dims = 1"
   ]
  },
  {
   "cell_type": "code",
   "execution_count": null,
   "id": "94bc4084-9138-49ab-ba67-a8ed3d806747",
   "metadata": {},
   "outputs": [],
   "source": [
    "distribution = tfd.Sample(\n",
    "    tfd.Normal(loc=0., scale=1.),\n",
    "    sample_shape=[dims],\n",
    "    )\n",
    "\n",
    "bijectors = []\n",
    "for _ in range(10):\n",
    "    made = tfb.AutoregressiveNetwork(\n",
    "        params=2,\n",
    "        event_shape=(dims,),\n",
    "        conditional=True,\n",
    "        conditional_event_shape=(cond_dims,),\n",
    "        hidden_units=[1024],\n",
    "        )\n",
    "    bijector = tfb.MaskedAutoregressiveFlow(made, name=f'maf{_}')\n",
    "    bijectors.append(bijector)\n",
    "bijector = tfb.Chain(bijectors)\n",
    "\n",
    "maf = tfd.TransformedDistribution(distribution=distribution, bijector=bijector)\n",
    "iaf = tfd.TransformedDistribution(distribution=distribution, bijector=tfb.Invert(bijector))"
   ]
  },
  {
   "cell_type": "code",
   "execution_count": null,
   "id": "c5d8361a-96df-4fd1-ac07-fb853ff14828",
   "metadata": {},
   "outputs": [],
   "source": [
    "kw = make_kwargs(maf, [1.])\n",
    "\n",
    "sample = timer(lambda: maf.sample(10000, bijector_kwargs=kw))\n",
    "lp = timer(lambda: maf.log_prob(sample, bijector_kwargs=kw))\n",
    "corner.corner(sample.numpy())\n",
    "plt.show()\n",
    "\n",
    "sample = timer(lambda: iaf.sample(10000, bijector_kwargs=kw))\n",
    "lp = timer(lambda: iaf.log_prob(sample, bijector_kwargs=kw))\n",
    "corner.corner(sample.numpy())\n",
    "plt.show()"
   ]
  },
  {
   "cell_type": "code",
   "execution_count": null,
   "id": "12e426e4-5132-4188-b52a-e15f73ef8d3e",
   "metadata": {},
   "outputs": [],
   "source": []
  }
 ],
 "metadata": {
  "kernelspec": {
   "display_name": "shallow",
   "language": "python",
   "name": "shallow"
  },
  "language_info": {
   "codemirror_mode": {
    "name": "ipython",
    "version": 3
   },
   "file_extension": ".py",
   "mimetype": "text/x-python",
   "name": "python",
   "nbconvert_exporter": "python",
   "pygments_lexer": "ipython3",
   "version": "3.9.13"
  }
 },
 "nbformat": 4,
 "nbformat_minor": 5
}
