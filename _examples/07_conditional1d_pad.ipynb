{
 "cells": [
  {
   "cell_type": "code",
   "execution_count": null,
   "id": "54ca100f-c1fc-4b42-80cc-0a1c00436492",
   "metadata": {},
   "outputs": [],
   "source": [
    "import numpy as np\n",
    "import matplotlib.pyplot as plt\n",
    "from corner import corner\n",
    "import tensorflow as tf\n",
    "import tensorflow_addons as tfa\n",
    "import tensorflow_probability as tfp\n",
    "\n",
    "tfk = tf.keras\n",
    "tfd = tfp.distributions\n",
    "tfb = tfp.bijectors"
   ]
  },
  {
   "cell_type": "code",
   "execution_count": null,
   "id": "dfa11be0-3335-427a-b6a7-7e6582f5d40e",
   "metadata": {},
   "outputs": [],
   "source": [
    "def powerlaw(x, slope, lo, hi):\n",
    "    \n",
    "    return (\n",
    "        (x >= lo) * (x <= hi)\n",
    "        * x**slope\n",
    "        * (slope+1) / (hi**(slope+1) - lo**(slope+1))\n",
    "        )\n",
    "\n",
    "def sample_powerlaw(n_samples, slope, lo, hi):\n",
    "    \n",
    "    x = np.random.uniform(size=n_samples)\n",
    "    \n",
    "    return (lo**(slope+1) + x * (hi**(slope+1) - lo**(slope+1)))**(1/(slope+1))"
   ]
  },
  {
   "cell_type": "code",
   "execution_count": null,
   "id": "bc25c896-30c2-474a-b1d7-ca0fdc7fccf6",
   "metadata": {},
   "outputs": [],
   "source": [
    "lo = 0\n",
    "hi = 1\n",
    "x = np.linspace(lo-.5, hi+.5, 100)\n",
    "\n",
    "for slope in np.linspace(0, 5, 10):\n",
    "    plt.plot(x, powerlaw(x, slope, lo, hi))"
   ]
  },
  {
   "cell_type": "code",
   "execution_count": null,
   "id": "d3037dce-fd35-4415-9441-5e857ea9dbfe",
   "metadata": {},
   "outputs": [],
   "source": [
    "n_slopes = 10\n",
    "n_samples = 1000\n",
    "lo = 0\n",
    "hi = 1\n",
    "\n",
    "slopes = np.linspace(0, 5, n_slopes)\n",
    "data = sample_powerlaw(n_samples, slopes[:, None], lo, hi)\n",
    "data.shape"
   ]
  },
  {
   "cell_type": "code",
   "execution_count": null,
   "id": "6f2f3faa-3297-48d4-90ee-cf70211cfa38",
   "metadata": {},
   "outputs": [],
   "source": [
    "bins = np.linspace(lo, hi, 20)\n",
    "for d in data:\n",
    "    plt.hist(d, bins=bins, density=True, histtype='step')"
   ]
  },
  {
   "cell_type": "code",
   "execution_count": null,
   "id": "fdd361af-0e5a-4722-ac05-48af6429d033",
   "metadata": {},
   "outputs": [],
   "source": [
    "slopes = np.repeat(slopes[:, None], n_samples, axis=1)\n",
    "slopes.shape"
   ]
  },
  {
   "cell_type": "code",
   "execution_count": null,
   "id": "29d22653-7da5-4399-a42c-f13d67223176",
   "metadata": {},
   "outputs": [],
   "source": [
    "data = np.concatenate(data)\n",
    "slopes = np.concatenate(slopes)\n",
    "data.shape, slopes.shape"
   ]
  },
  {
   "cell_type": "code",
   "execution_count": null,
   "id": "5a468bef-1962-4738-989e-6d93baeb7269",
   "metadata": {},
   "outputs": [],
   "source": [
    "# Let's try adding a useless dimension so we can permute\n",
    "# This means sampling will still work, but density evaluation won't\n",
    "# We need some way to marginalize out the fake dimension\n",
    "data = np.array([data, np.zeros(data.size)]).T\n",
    "data.shape"
   ]
  },
  {
   "cell_type": "code",
   "execution_count": null,
   "id": "ac02de32-8160-4902-9e74-03143889bfff",
   "metadata": {},
   "outputs": [],
   "source": [
    "# https://github.com/tensorflow/probability/issues/1410\n",
    "# https://github.com/tensorflow/probability/issues/1006#issuecomment-663141106\n",
    "\n",
    "import re\n",
    "\n",
    "def make_bijector_kwargs(bijector, name_to_kwargs):\n",
    "    if hasattr(bijector, 'bijectors'):\n",
    "        return {b.name: make_bijector_kwargs(b, name_to_kwargs) for b in bijector.bijectors}\n",
    "    else:\n",
    "        for name_regex, kwargs in name_to_kwargs.items():\n",
    "            if re.match(name_regex, bijector.name):\n",
    "                return kwargs\n",
    "    return {}"
   ]
  },
  {
   "cell_type": "code",
   "execution_count": null,
   "id": "da1f6026-ef68-48e3-97eb-c98689d1be2c",
   "metadata": {},
   "outputs": [],
   "source": [
    "n_flows = 3\n",
    "n_layers = 1\n",
    "n_units = 128\n",
    "activation = 'relu'\n",
    "\n",
    "bijectors = []\n",
    "\n",
    "#bijectors.append(tfb.BatchNormalization())\n",
    "\n",
    "# We transform at the end with a logistic function\n",
    "# This ensures all samples are in [0, 1]\n",
    "bs = [\n",
    "    tfb.Chain([tfb.Scale(scale=.5), tfb.Shift(shift=1.), tfb.Tanh()]),\n",
    "    tfb.Identity(),\n",
    "    ]\n",
    "blockwise = tfb.Blockwise(bs, block_sizes=[1, 1])\n",
    "bijectors.append(blockwise)\n",
    "\n",
    "for i in range(n_flows):\n",
    "\n",
    "    made = tfb.AutoregressiveNetwork(\n",
    "        params=2,\n",
    "        event_shape=(2,),\n",
    "        conditional=True,\n",
    "        conditional_event_shape=(1,),\n",
    "        #conditional_input_layers='all_layers',\n",
    "        hidden_units=[n_units]*n_layers,\n",
    "        #input_order='left-to-right',\n",
    "        #hidden_degrees='equal',\n",
    "        activation=activation,\n",
    "        #use_bias=True,\n",
    "        #kernel_initializer='glorot_uniform',\n",
    "        #bias_initializer='zeros',\n",
    "        # kernel_regularizer=tf.keras.regularizers.L2(l2=1e-6),\n",
    "        # bias_regularizer=tf.keras.regularizers.L2(l2=1e-6),\n",
    "        #kernel_constraint=None,\n",
    "        #bias_constraint=None,\n",
    "        #validate_args=False,\n",
    "        )\n",
    "    maf = tfb.MaskedAutoregressiveFlow(made, name=f'maf{i}')\n",
    "    bijectors.append(maf)\n",
    "    \n",
    "    #bijectors.append(tfb.BatchNormalization())\n",
    "    # bn = tfb.BatchNormalization(\n",
    "    #     batchnorm_layer=tfk.layers.BatchNormalization(\n",
    "    #         momentum=0.,\n",
    "    #         epsilon=1e-5,\n",
    "    #         center=True,\n",
    "    #         scale=True,\n",
    "    #         gamma_constraint=tf.math.exp,\n",
    "    #         ),\n",
    "    #     training=True,\n",
    "    #     )\n",
    "    # bijectors.append(bn)\n",
    "\n",
    "    bijectors.append(tfb.Permute([1, 0]))\n",
    "\n",
    "bijector = tfb.Chain(bijectors)\n",
    "distribution = tfd.Sample(tfd.Normal(loc=0., scale=1.), sample_shape=[2])                           \n",
    "nf = tfd.TransformedDistribution(distribution=distribution, bijector=bijector)"
   ]
  },
  {
   "cell_type": "code",
   "execution_count": null,
   "id": "8183989f-9d9c-4849-91c5-027cb1234dc7",
   "metadata": {},
   "outputs": [],
   "source": [
    "x = tf.keras.Input(shape=(2,), dtype=tf.float32)\n",
    "c = tf.keras.Input(shape=(1,), dtype=tf.float32)\n",
    "\n",
    "log_prob = nf.log_prob(\n",
    "    x,\n",
    "    bijector_kwargs=make_bijector_kwargs(\n",
    "        nf.bijector, {'maf.': {'conditional_input': c}},\n",
    "        ),\n",
    "    )\n",
    "\n",
    "model = tf.keras.Model([x, c], log_prob)"
   ]
  },
  {
   "cell_type": "code",
   "execution_count": null,
   "id": "0069458c-0dfd-4cae-8827-57d080e5a0d4",
   "metadata": {
    "scrolled": true,
    "tags": []
   },
   "outputs": [],
   "source": [
    "epochs = 20\n",
    "batch_size = 100\n",
    "learning_rate = 1e-3\n",
    "\n",
    "model.compile(\n",
    "    optimizer=tf.optimizers.Adam(learning_rate=learning_rate),\n",
    "    loss=lambda _, log_prob: -log_prob,\n",
    "    )\n",
    "\n",
    "result = model.fit(\n",
    "    x=[data, slopes],\n",
    "    y=np.zeros(n_samples*n_slopes, dtype=np.float32),\n",
    "    epochs=epochs,\n",
    "    batch_size=batch_size,\n",
    "    shuffle=True,\n",
    "    verbose=1,\n",
    "    )"
   ]
  },
  {
   "cell_type": "code",
   "execution_count": null,
   "id": "f1d30aef-d09c-4172-8aa8-2e03b84f6c6d",
   "metadata": {},
   "outputs": [],
   "source": [
    "plt.plot(result.history['loss']);"
   ]
  },
  {
   "cell_type": "code",
   "execution_count": null,
   "id": "d2b6188c-6d9e-488a-a618-02098c96e405",
   "metadata": {},
   "outputs": [],
   "source": [
    "slope = 0\n",
    "n_samples = 10000\n",
    "\n",
    "condition = slope * np.ones((n_samples, 1))\n",
    "bijector_kwargs = {\n",
    "    f'maf{i}': {'conditional_input': condition} \n",
    "    for i in range(n_flows)\n",
    "    }\n",
    "\n",
    "corner(\n",
    "    nf.sample(\n",
    "        n_samples,\n",
    "        bijector_kwargs=bijector_kwargs,\n",
    "        ).numpy(),\n",
    "    );"
   ]
  },
  {
   "cell_type": "code",
   "execution_count": null,
   "id": "1a959631-bcc7-4b77-942d-2c9d5b680b72",
   "metadata": {},
   "outputs": [],
   "source": [
    "slope = 0\n",
    "n_samples = 10000\n",
    "\n",
    "condition = slope * np.ones((n_samples, 1))\n",
    "bijector_kwargs = {\n",
    "    f'maf{i}': {'conditional_input': condition} \n",
    "    for i in range(n_flows)\n",
    "    }\n",
    "\n",
    "corner(\n",
    "    nf.bijector.forward(\n",
    "        distribution.sample(n_samples),\n",
    "        **bijector_kwargs,\n",
    "        ).numpy(),\n",
    "    );"
   ]
  },
  {
   "cell_type": "code",
   "execution_count": null,
   "id": "3047f549-422e-42a8-8c94-15efe6af2f4b",
   "metadata": {},
   "outputs": [],
   "source": [
    "slope = 0\n",
    "n_samples = 10000\n",
    "\n",
    "condition = slope * np.ones((n_samples, 1))\n",
    "samples = np.array([\n",
    "    sample_powerlaw(n_samples, slope, lo, hi),\n",
    "    np.zeros(n_samples),\n",
    "    ]).T\n",
    "\n",
    "bijector_kwargs = {\n",
    "    f'maf{i}': {'conditional_input': condition} \n",
    "    for i in range(n_flows)\n",
    "    }\n",
    "\n",
    "corner(\n",
    "    nf.bijector.inverse(\n",
    "        samples,\n",
    "        **bijector_kwargs,\n",
    "        ).numpy(),\n",
    "    );"
   ]
  },
  {
   "cell_type": "code",
   "execution_count": null,
   "id": "34a40895-cc71-4685-be68-3bb06bc611b2",
   "metadata": {},
   "outputs": [],
   "source": []
  }
 ],
 "metadata": {
  "kernelspec": {
   "display_name": "probflow",
   "language": "python",
   "name": "probflow"
  },
  "language_info": {
   "codemirror_mode": {
    "name": "ipython",
    "version": 3
   },
   "file_extension": ".py",
   "mimetype": "text/x-python",
   "name": "python",
   "nbconvert_exporter": "python",
   "pygments_lexer": "ipython3",
   "version": "3.9.13"
  }
 },
 "nbformat": 4,
 "nbformat_minor": 5
}
