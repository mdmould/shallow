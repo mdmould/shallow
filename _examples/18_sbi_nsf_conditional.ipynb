{
 "cells": [
  {
   "cell_type": "code",
   "execution_count": null,
   "id": "7d433e4f-2df4-4015-9b6a-b1e423b101c7",
   "metadata": {},
   "outputs": [],
   "source": [
    "import numpy as np\n",
    "import matplotlib.pyplot as plt\n",
    "cmap = plt.get_cmap('tab10')\n",
    "from sklearn import datasets\n",
    "import torch\n",
    "device = torch.device('cpu')\n",
    "from copy import deepcopy\n",
    "from sbi.neural_nets.flow import build_nsf"
   ]
  },
  {
   "cell_type": "code",
   "execution_count": null,
   "id": "0f61e4a5-b8e3-4e0d-bd28-7ef3813397f4",
   "metadata": {},
   "outputs": [],
   "source": [
    "x, y = datasets.make_moons(1_000, noise=.1)\n",
    "plt.scatter(*x.T, c=y);"
   ]
  },
  {
   "cell_type": "code",
   "execution_count": null,
   "id": "eb55c5a9-87d7-49b6-b4b5-481310cf7a0c",
   "metadata": {},
   "outputs": [],
   "source": [
    "flow = build_nsf(\n",
    "    batch_x=torch.Tensor(x),\n",
    "    batch_y=torch.Tensor(y[:, None]),\n",
    "    z_score_x='independent',\n",
    "    z_score_y='independent',\n",
    "    hidden_features=100,\n",
    "    num_transforms=10,\n",
    "    num_bins=10,\n",
    "    # embedding_net: nn.Module = nn.Identity(),\n",
    "    tail_bound=1.,\n",
    "    # hidden_layers_spline_context: int = 1,\n",
    "    num_blocks=5,\n",
    "    dropout_probability=0.,\n",
    "    use_batch_norm=False,\n",
    "    ).to(device)"
   ]
  },
  {
   "cell_type": "code",
   "execution_count": null,
   "id": "61aeeb1c-171b-443c-9651-cb900c7431d8",
   "metadata": {
    "scrolled": true,
    "tags": []
   },
   "outputs": [],
   "source": [
    "epochs = 1000\n",
    "batch_size = 128\n",
    "lr = 1e-3\n",
    "\n",
    "optimizer = torch.optim.Adam(flow.parameters(), lr=lr)\n",
    "best_epoch = 0\n",
    "best_loss = np.inf\n",
    "\n",
    "for epoch in range(epochs):    \n",
    "    x, y = datasets.make_moons(128, noise=.1)\n",
    "    x = torch.Tensor(x).to(device)\n",
    "    y = torch.Tensor(y[:, None]).to(device)\n",
    "    \n",
    "    optimizer.zero_grad()\n",
    "    loss = -flow.log_prob(inputs=x, context=y).mean()\n",
    "    loss.backward()\n",
    "    optimizer.step()\n",
    "    \n",
    "    if loss < best_loss:\n",
    "        best_epoch = epoch\n",
    "        best_loss = loss\n",
    "        best_flow = deepcopy(flow)\n",
    "        \n",
    "    print(epoch, float(loss))"
   ]
  },
  {
   "cell_type": "code",
   "execution_count": null,
   "id": "b6f8fbaf-ddec-4749-8c04-3e5e10c7301f",
   "metadata": {},
   "outputs": [],
   "source": [
    "p = 3\n",
    "n = 200\n",
    "\n",
    "x = np.linspace(-p, p, n)\n",
    "y = np.linspace(-p, p, n)\n",
    "xgrid, ygrid = np.meshgrid(x, y)\n",
    "xy = np.concatenate(\n",
    "    [xgrid.reshape(-1, 1), ygrid.reshape(-1, 1)],\n",
    "    axis=1,\n",
    "    dtype=np.float32,\n",
    "    )\n",
    "\n",
    "with torch.no_grad():\n",
    "    zgrid = torch.zeros(xy.shape[0])\n",
    "    for context in [0., 1.]:\n",
    "        zgrid += best_flow.log_prob(\n",
    "            torch.tensor(xy), torch.tensor([[context]]*xy.shape[0]),\n",
    "            ).exp()#.reshape(n, n)\n",
    "        \n",
    "plt.imshow(\n",
    "    zgrid.numpy().reshape(n, n),\n",
    "    origin='lower',\n",
    "    aspect='equal',\n",
    "    extent=(-p, p, -p, p),\n",
    "    );"
   ]
  },
  {
   "cell_type": "code",
   "execution_count": null,
   "id": "110e576a-4289-436b-8c22-fcc427cf2853",
   "metadata": {},
   "outputs": [],
   "source": []
  }
 ],
 "metadata": {
  "kernelspec": {
   "display_name": "shallow",
   "language": "python",
   "name": "shallow"
  },
  "language_info": {
   "codemirror_mode": {
    "name": "ipython",
    "version": 3
   },
   "file_extension": ".py",
   "mimetype": "text/x-python",
   "name": "python",
   "nbconvert_exporter": "python",
   "pygments_lexer": "ipython3",
   "version": "3.9.13"
  }
 },
 "nbformat": 4,
 "nbformat_minor": 5
}
