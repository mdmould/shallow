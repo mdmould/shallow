{
 "cells": [
  {
   "cell_type": "code",
   "execution_count": null,
   "id": "21af303c-61df-44ba-811a-982b64ee8116",
   "metadata": {},
   "outputs": [],
   "source": [
    "import numpy as np\n",
    "import matplotlib.pyplot as plt\n",
    "from sklearn import datasets\n",
    "import torch\n",
    "from tqdm import tqdm\n",
    "from copy import deepcopy\n",
    "\n",
    "from shallow.torch import MAF, NSF\n",
    "\n",
    "device = torch.device('cpu')\n",
    "np.random.seed(42)"
   ]
  },
  {
   "cell_type": "code",
   "execution_count": null,
   "id": "486f1142-60eb-4925-931a-d1dfad35bb78",
   "metadata": {},
   "outputs": [],
   "source": [
    "x, y = datasets.make_moons(1_000, noise=.1)\n",
    "plt.scatter(*x.T, c=y);"
   ]
  },
  {
   "cell_type": "code",
   "execution_count": null,
   "id": "42703273-f089-4d47-90d1-1e892ae5e3f8",
   "metadata": {},
   "outputs": [],
   "source": [
    "def train(\n",
    "    model,\n",
    "    epochs=1000,\n",
    "    batch_size=128,\n",
    "    learning_rate=1e-3,\n",
    "    weight_decay=0.,\n",
    "    ):\n",
    "    \n",
    "    model = model.to(device)\n",
    "    loss_fn = lambda inputs, conditions: -model.log_prob(inputs, conditions).mean()\n",
    "    optimizer = torch.optim.Adam(\n",
    "        model.parameters(), lr=learning_rate, weight_decay=weight_decay,\n",
    "        )\n",
    "    best_epoch = 0\n",
    "    best_loss = np.inf\n",
    "    best_model = deepcopy(model)\n",
    "    \n",
    "    for epoch in tqdm(range(epochs)):\n",
    "        \n",
    "        model.train()\n",
    "        \n",
    "        x, y = datasets.make_moons(batch_size, noise=.1)\n",
    "        x = torch.tensor(x, dtype=torch.float32).to(device)\n",
    "        y = torch.tensor(y[:, None], dtype=torch.float32).to(device)\n",
    "        \n",
    "        optimizer.zero_grad()\n",
    "        loss = loss_fn(x, y)\n",
    "        loss.backward()\n",
    "        optimizer.step()\n",
    "        \n",
    "        loss = loss.item()\n",
    "        if np.isnan(loss):\n",
    "            break\n",
    "        if loss < best_loss:\n",
    "            best_epoch = epoch\n",
    "            best_loss = loss\n",
    "            best_model = deepcopy(model)\n",
    "            \n",
    "    return best_epoch, best_loss, best_model"
   ]
  },
  {
   "cell_type": "code",
   "execution_count": null,
   "id": "ac02c743-aba7-437a-a08d-2a47d7d3c6c5",
   "metadata": {},
   "outputs": [],
   "source": [
    "def test_condition(\n",
    "    model,\n",
    "    condition=0.,\n",
    "    n=200,\n",
    "    lim=None,\n",
    "    plot=True,\n",
    "    ):\n",
    "    \n",
    "    model.eval()\n",
    "    \n",
    "    x = np.linspace(-lim, lim, n)\n",
    "    y = np.linspace(-lim, lim, n)\n",
    "    xg, yg = np.meshgrid(x, y)\n",
    "    xg = np.reshape(xg, (-1, 1))\n",
    "    yg = np.reshape(yg, (-1, 1))\n",
    "    \n",
    "    xy = np.concatenate([xg, yg], axis=1)\n",
    "    \n",
    "    with torch.no_grad():\n",
    "        zg = model.log_prob(\n",
    "            torch.tensor(xy, dtype=torch.float32),\n",
    "            torch.tensor([[condition]]*n**2, dtype=torch.float32),\n",
    "            ).exp().numpy().reshape(n, n)\n",
    "\n",
    "    if plot:\n",
    "        plt.imshow(\n",
    "            zg, origin='lower', aspect='equal', extent=(-lim, lim, -lim, lim),\n",
    "            )\n",
    "        \n",
    "    return zg\n",
    "        \n",
    "        \n",
    "def test(model, n=200, lim=3):\n",
    "    \n",
    "    zg = np.zeros((n, n))\n",
    "    for condition in [0, 1]:\n",
    "        zg += test_condition(model, condition, n, lim, False)\n",
    "        \n",
    "    plt.imshow(\n",
    "        zg, origin='lower', aspect='equal', extent=(-lim, lim, -lim, lim),\n",
    "        )"
   ]
  },
  {
   "cell_type": "markdown",
   "id": "23a8683b-ba72-456d-a226-57ca4d533df3",
   "metadata": {},
   "source": [
    "## MAF"
   ]
  },
  {
   "cell_type": "code",
   "execution_count": null,
   "id": "147c25be-52e5-4784-aba9-e4e367d9534c",
   "metadata": {
    "scrolled": true,
    "tags": []
   },
   "outputs": [],
   "source": [
    "maf = MAF(\n",
    "    inputs=2,\n",
    "    conditions=1,\n",
    "    bounds=[None, [-5, 5]],\n",
    "    norm_inputs=x.astype(np.float32),\n",
    "    norm_conditions=y.astype(np.float32),\n",
    "    transforms=1,\n",
    "    hidden=1,\n",
    "    blocks=1,\n",
    "    activation=torch.relu,\n",
    "    dropout=0.,\n",
    "    norm_within=False,\n",
    "    norm_between=False,\n",
    "    permutation=None, #'reverse',\n",
    "    linear=None,\n",
    "    embedding=None,\n",
    "    distribution=None,\n",
    "    residual=False,\n",
    "    )\n",
    "\n",
    "epoch, loss, maf = train(\n",
    "    maf, epochs=1000, batch_size=128, learning_rate=1e-3, weight_decay=0.)"
   ]
  },
  {
   "cell_type": "code",
   "execution_count": null,
   "id": "e9fbf53c-445b-4ee4-a94f-344726c15f3f",
   "metadata": {},
   "outputs": [],
   "source": [
    "test(maf, n=200, lim=2.5)"
   ]
  },
  {
   "cell_type": "markdown",
   "id": "59160aed-88d0-4543-9c07-bd87d5c02bda",
   "metadata": {},
   "source": [
    "# NSF"
   ]
  },
  {
   "cell_type": "code",
   "execution_count": null,
   "id": "839b8afe-282f-4850-adcb-f436e3278b09",
   "metadata": {
    "scrolled": true,
    "tags": []
   },
   "outputs": [],
   "source": [
    "nsf = NSF(\n",
    "    inputs=2,\n",
    "    conditions=1,\n",
    "    bounds=[[-3, 3]]*2,\n",
    "    norm_inputs=x.astype(np.float32),\n",
    "    norm_conditions=y.astype(np.float32),\n",
    "    transforms=3,\n",
    "    hidden=10,\n",
    "    blocks=2,\n",
    "    activation=torch.relu,\n",
    "    dropout=0.,\n",
    "    norm_within=False,\n",
    "    norm_between=True,\n",
    "    permutation='reverse',\n",
    "    linear=None,\n",
    "    embedding=None,\n",
    "    distribution=None,\n",
    "    mask='mid',\n",
    "    bins=10,\n",
    "    tails='linear',\n",
    "    bound=5.,\n",
    "    )\n",
    "\n",
    "epoch, loss, nsf = train(\n",
    "    nsf, epochs=1000, batch_size=128, learning_rate=1e-3, weight_decay=0.)"
   ]
  },
  {
   "cell_type": "code",
   "execution_count": null,
   "id": "a5d2d900-2a7e-413e-bda9-090c4570aaa7",
   "metadata": {},
   "outputs": [],
   "source": [
    "test(nsf, n=200, lim=2.5)"
   ]
  },
  {
   "cell_type": "code",
   "execution_count": null,
   "id": "e910ec75-bdf8-47ee-a74d-6ab4826cd1e7",
   "metadata": {},
   "outputs": [],
   "source": []
  }
 ],
 "metadata": {
  "kernelspec": {
   "display_name": "shallow",
   "language": "python",
   "name": "shallow"
  },
  "language_info": {
   "codemirror_mode": {
    "name": "ipython",
    "version": 3
   },
   "file_extension": ".py",
   "mimetype": "text/x-python",
   "name": "python",
   "nbconvert_exporter": "python",
   "pygments_lexer": "ipython3",
   "version": "3.8.8"
  }
 },
 "nbformat": 4,
 "nbformat_minor": 5
}
