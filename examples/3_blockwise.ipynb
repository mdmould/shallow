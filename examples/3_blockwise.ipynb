{
 "cells": [
  {
   "cell_type": "code",
   "execution_count": 7,
   "id": "45191634-ad2f-4c23-a199-0cde423eaa6a",
   "metadata": {},
   "outputs": [],
   "source": [
    "import numpy as np\n",
    "import tensorflow as tf\n",
    "import tensorflow_addons as tfa\n",
    "import tensorflow_probability as tfp\n",
    "\n",
    "tfk = tf.keras\n",
    "tfd = tfp.distributions\n",
    "tfb = tfp.bijectors"
   ]
  },
  {
   "cell_type": "markdown",
   "id": "044cfd3d-b2a2-4f25-8772-6afadb4c9bd9",
   "metadata": {},
   "source": [
    "## tfp.bijectors.Blockwise"
   ]
  },
  {
   "cell_type": "code",
   "execution_count": 20,
   "id": "946394bf-14b6-4bb8-b4b8-82b2007cd445",
   "metadata": {},
   "outputs": [],
   "source": [
    "# Need 1 unbounded output and the rest bounded\n",
    "\n",
    "blockwise = tfb.Blockwise(\n",
    "  bijectors=[tfb.Exp(), tfb.Sigmoid()], block_sizes=[1, 2]\n",
    ")"
   ]
  },
  {
   "cell_type": "code",
   "execution_count": 21,
   "id": "7761000c-71e8-4164-83d2-87537d44ebc2",
   "metadata": {},
   "outputs": [
    {
     "data": {
      "text/plain": [
       "<tf.Tensor: shape=(3,), dtype=float32, numpy=array([1.       , 0.7310586, 0.8807971], dtype=float32)>"
      ]
     },
     "execution_count": 21,
     "metadata": {},
     "output_type": "execute_result"
    }
   ],
   "source": [
    "blockwise.forward([0., 1., 2.])"
   ]
  },
  {
   "cell_type": "code",
   "execution_count": 22,
   "id": "4e3798f2-17df-4e47-af23-6628b861d01b",
   "metadata": {},
   "outputs": [
    {
     "data": {
      "text/plain": [
       "<tf.Tensor: shape=(1, 3), dtype=float32, numpy=array([[1.       , 0.7310586, 0.8807971]], dtype=float32)>"
      ]
     },
     "execution_count": 22,
     "metadata": {},
     "output_type": "execute_result"
    }
   ],
   "source": [
    "blockwise.forward([[0., 1., 2.]])"
   ]
  },
  {
   "cell_type": "code",
   "execution_count": 23,
   "id": "e2e81a61-d198-49bc-8d32-5ab85ded7c78",
   "metadata": {},
   "outputs": [
    {
     "data": {
      "text/plain": [
       "(<tf.Tensor: shape=(), dtype=float32, numpy=1.0>,\n",
       " <tf.Tensor: shape=(), dtype=float32, numpy=0.7310586>,\n",
       " <tf.Tensor: shape=(), dtype=float32, numpy=0.8807971>)"
      ]
     },
     "execution_count": 23,
     "metadata": {},
     "output_type": "execute_result"
    }
   ],
   "source": [
    "tfb.Exp().forward(0.), tfb.Sigmoid().forward(1.), tfb.Sigmoid().forward(2.)"
   ]
  },
  {
   "cell_type": "markdown",
   "id": "411819f8-5765-4cbf-83a9-ee0b655a6b11",
   "metadata": {},
   "source": [
    "## Enforce output samples in [0, 1] for subset of dimensions"
   ]
  },
  {
   "cell_type": "code",
   "execution_count": 24,
   "id": "35848896-1018-434e-9986-2671b5ffbce2",
   "metadata": {},
   "outputs": [],
   "source": [
    "bs = [\n",
    "    tfb.Identity(),\n",
    "    tfb.Chain([tfb.Scale(scale=.5), tfb.Shift(shift=1.), tfb.Tanh()]),\n",
    "    ]\n",
    "blockwise = tfb.Blockwise(bs, block_sizes=[1, 2])"
   ]
  },
  {
   "cell_type": "code",
   "execution_count": 25,
   "id": "ed3c7d3a-6021-4aa1-a0e5-31588c418c2b",
   "metadata": {},
   "outputs": [
    {
     "data": {
      "text/plain": [
       "<tf.Tensor: shape=(3,), dtype=float32, numpy=array([0.       , 0.8807971, 0.9820138], dtype=float32)>"
      ]
     },
     "execution_count": 25,
     "metadata": {},
     "output_type": "execute_result"
    }
   ],
   "source": [
    "blockwise.forward([0., 1., 2.])"
   ]
  },
  {
   "cell_type": "code",
   "execution_count": 26,
   "id": "95aa2a4d-2759-497d-abe9-bf52981890ba",
   "metadata": {},
   "outputs": [
    {
     "data": {
      "text/plain": [
       "<tf.Tensor: shape=(), dtype=float32, numpy=0.9820138>"
      ]
     },
     "execution_count": 26,
     "metadata": {},
     "output_type": "execute_result"
    }
   ],
   "source": [
    "tfb.Chain([tfb.Scale(scale=.5), tfb.Shift(shift=1.), tfb.Tanh()]).forward(2.)"
   ]
  },
  {
   "cell_type": "markdown",
   "id": "0d3ff3b3-dbd4-475b-a43c-c870e5da21a4",
   "metadata": {},
   "source": [
    "## Abstract it"
   ]
  },
  {
   "cell_type": "code",
   "execution_count": 29,
   "id": "919578e0-3cab-46b2-8b87-a9216997a3de",
   "metadata": {},
   "outputs": [],
   "source": [
    "n_dim = 3\n",
    "bounded_idxs = [1, 2]"
   ]
  },
  {
   "cell_type": "code",
   "execution_count": 30,
   "id": "7c863023-e6be-4b38-bb60-f609db7512e8",
   "metadata": {},
   "outputs": [],
   "source": [
    "blockwise_bijectors = []\n",
    "for i in range(n_dim):\n",
    "    if i in bounded_idxs:\n",
    "        sigmoid = tfb.Chain(\n",
    "            [tfb.Scale(scale=.5), tfb.Shift(shift=1.), tfb.Tanh()],\n",
    "            )\n",
    "        blockwise_bijectors.append(sigmoid)\n",
    "    else:\n",
    "        blockwise_bijectors.append(tfb.Identity())\n",
    "blockwise_bijector = tfb.Blockwise(blockwise_bijectors, block_sizes=[1]*n_dim)"
   ]
  },
  {
   "cell_type": "code",
   "execution_count": 31,
   "id": "d81f8506-8370-46f7-8c71-f5b5778837f7",
   "metadata": {},
   "outputs": [
    {
     "data": {
      "text/plain": [
       "<tf.Tensor: shape=(3,), dtype=float32, numpy=array([0.       , 0.8807971, 0.9820138], dtype=float32)>"
      ]
     },
     "execution_count": 31,
     "metadata": {},
     "output_type": "execute_result"
    }
   ],
   "source": [
    "blockwise.forward([0., 1., 2.])"
   ]
  },
  {
   "cell_type": "code",
   "execution_count": 32,
   "id": "6e590fa4-dcd8-4e93-a417-85b768ccc2f0",
   "metadata": {},
   "outputs": [
    {
     "data": {
      "text/plain": [
       "(<tf.Tensor: shape=(), dtype=float32, numpy=0.8807971>,\n",
       " <tf.Tensor: shape=(), dtype=float32, numpy=0.9820138>)"
      ]
     },
     "execution_count": 32,
     "metadata": {},
     "output_type": "execute_result"
    }
   ],
   "source": [
    "sigmoid.forward(1.), sigmoid.forward(2.)"
   ]
  },
  {
   "cell_type": "code",
   "execution_count": null,
   "id": "d9babac9-15b2-4c45-ad55-3c428e638953",
   "metadata": {},
   "outputs": [],
   "source": []
  }
 ],
 "metadata": {
  "kernelspec": {
   "display_name": "probflow",
   "language": "python",
   "name": "probflow"
  },
  "language_info": {
   "codemirror_mode": {
    "name": "ipython",
    "version": 3
   },
   "file_extension": ".py",
   "mimetype": "text/x-python",
   "name": "python",
   "nbconvert_exporter": "python",
   "pygments_lexer": "ipython3",
   "version": "3.9.13"
  }
 },
 "nbformat": 4,
 "nbformat_minor": 5
}
