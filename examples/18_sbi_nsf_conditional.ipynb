{
 "cells": [
  {
   "cell_type": "code",
   "execution_count": 1,
   "id": "7d433e4f-2df4-4015-9b6a-b1e423b101c7",
   "metadata": {},
   "outputs": [
    {
     "ename": "ImportError",
     "evalue": "cannot import name 'build_made' from partially initialized module 'sbi.neural_nets.flow' (most likely due to a circular import) (/data/mmould/envs/tf26/lib/python3.8/site-packages/sbi/neural_nets/flow.py)",
     "output_type": "error",
     "traceback": [
      "\u001b[0;31m---------------------------------------------------------------------------\u001b[0m",
      "\u001b[0;31mImportError\u001b[0m                               Traceback (most recent call last)",
      "Cell \u001b[0;32mIn [1], line 7\u001b[0m\n\u001b[1;32m      5\u001b[0m \u001b[38;5;28;01mimport\u001b[39;00m \u001b[38;5;21;01mtorch\u001b[39;00m\n\u001b[1;32m      6\u001b[0m \u001b[38;5;28;01mfrom\u001b[39;00m \u001b[38;5;21;01mcopy\u001b[39;00m \u001b[38;5;28;01mimport\u001b[39;00m deepcopy\n\u001b[0;32m----> 7\u001b[0m \u001b[38;5;28;01mfrom\u001b[39;00m \u001b[38;5;21;01msbi\u001b[39;00m\u001b[38;5;21;01m.\u001b[39;00m\u001b[38;5;21;01mneural_nets\u001b[39;00m\u001b[38;5;21;01m.\u001b[39;00m\u001b[38;5;21;01mflow\u001b[39;00m \u001b[38;5;28;01mimport\u001b[39;00m build_nsf\n",
      "File \u001b[0;32m/data/mmould/envs/tf26/lib/python3.8/site-packages/sbi/neural_nets/flow.py:14\u001b[0m\n\u001b[1;32m     11\u001b[0m \u001b[38;5;28;01mfrom\u001b[39;00m \u001b[38;5;21;01mpyknos\u001b[39;00m\u001b[38;5;21;01m.\u001b[39;00m\u001b[38;5;21;01mnflows\u001b[39;00m\u001b[38;5;21;01m.\u001b[39;00m\u001b[38;5;21;01mnn\u001b[39;00m \u001b[38;5;28;01mimport\u001b[39;00m nets\n\u001b[1;32m     12\u001b[0m \u001b[38;5;28;01mfrom\u001b[39;00m \u001b[38;5;21;01mtorch\u001b[39;00m \u001b[38;5;28;01mimport\u001b[39;00m Tensor, nn, relu, tanh, tensor, uint8\n\u001b[0;32m---> 14\u001b[0m \u001b[38;5;28;01mfrom\u001b[39;00m \u001b[38;5;21;01msbi\u001b[39;00m\u001b[38;5;21;01m.\u001b[39;00m\u001b[38;5;21;01mutils\u001b[39;00m\u001b[38;5;21;01m.\u001b[39;00m\u001b[38;5;21;01msbiutils\u001b[39;00m \u001b[38;5;28;01mimport\u001b[39;00m (\n\u001b[1;32m     15\u001b[0m     standardizing_net,\n\u001b[1;32m     16\u001b[0m     standardizing_transform,\n\u001b[1;32m     17\u001b[0m     z_score_parser,\n\u001b[1;32m     18\u001b[0m )\n\u001b[1;32m     19\u001b[0m \u001b[38;5;28;01mfrom\u001b[39;00m \u001b[38;5;21;01msbi\u001b[39;00m\u001b[38;5;21;01m.\u001b[39;00m\u001b[38;5;21;01mutils\u001b[39;00m\u001b[38;5;21;01m.\u001b[39;00m\u001b[38;5;21;01mtorchutils\u001b[39;00m \u001b[38;5;28;01mimport\u001b[39;00m create_alternating_binary_mask\n\u001b[1;32m     20\u001b[0m \u001b[38;5;28;01mfrom\u001b[39;00m \u001b[38;5;21;01msbi\u001b[39;00m\u001b[38;5;21;01m.\u001b[39;00m\u001b[38;5;21;01mutils\u001b[39;00m\u001b[38;5;21;01m.\u001b[39;00m\u001b[38;5;21;01muser_input_checks\u001b[39;00m \u001b[38;5;28;01mimport\u001b[39;00m check_data_device, check_embedding_net_device\n",
      "File \u001b[0;32m/data/mmould/envs/tf26/lib/python3.8/site-packages/sbi/utils/__init__.py:4\u001b[0m\n\u001b[1;32m      2\u001b[0m \u001b[38;5;28;01mfrom\u001b[39;00m \u001b[38;5;21;01msbi\u001b[39;00m\u001b[38;5;21;01m.\u001b[39;00m\u001b[38;5;21;01mutils\u001b[39;00m\u001b[38;5;21;01m.\u001b[39;00m\u001b[38;5;21;01manalysis_utils\u001b[39;00m \u001b[38;5;28;01mimport\u001b[39;00m get_1d_marginal_peaks_from_kde\n\u001b[1;32m      3\u001b[0m \u001b[38;5;28;01mfrom\u001b[39;00m \u001b[38;5;21;01msbi\u001b[39;00m\u001b[38;5;21;01m.\u001b[39;00m\u001b[38;5;21;01mutils\u001b[39;00m\u001b[38;5;21;01m.\u001b[39;00m\u001b[38;5;21;01mconditional_density_utils\u001b[39;00m \u001b[38;5;28;01mimport\u001b[39;00m extract_and_transform_mog\n\u001b[0;32m----> 4\u001b[0m \u001b[38;5;28;01mfrom\u001b[39;00m \u001b[38;5;21;01msbi\u001b[39;00m\u001b[38;5;21;01m.\u001b[39;00m\u001b[38;5;21;01mutils\u001b[39;00m\u001b[38;5;21;01m.\u001b[39;00m\u001b[38;5;21;01mget_nn_models\u001b[39;00m \u001b[38;5;28;01mimport\u001b[39;00m classifier_nn, likelihood_nn, posterior_nn\n\u001b[1;32m      5\u001b[0m \u001b[38;5;28;01mfrom\u001b[39;00m \u001b[38;5;21;01msbi\u001b[39;00m\u001b[38;5;21;01m.\u001b[39;00m\u001b[38;5;21;01mutils\u001b[39;00m\u001b[38;5;21;01m.\u001b[39;00m\u001b[38;5;21;01mio\u001b[39;00m \u001b[38;5;28;01mimport\u001b[39;00m get_data_root, get_log_root, get_project_root\n\u001b[1;32m      6\u001b[0m \u001b[38;5;28;01mfrom\u001b[39;00m \u001b[38;5;21;01msbi\u001b[39;00m\u001b[38;5;21;01m.\u001b[39;00m\u001b[38;5;21;01mutils\u001b[39;00m\u001b[38;5;21;01m.\u001b[39;00m\u001b[38;5;21;01mkde\u001b[39;00m \u001b[38;5;28;01mimport\u001b[39;00m KDEWrapper, get_kde\n",
      "File \u001b[0;32m/data/mmould/envs/tf26/lib/python3.8/site-packages/sbi/utils/get_nn_models.py:14\u001b[0m\n\u001b[1;32m      7\u001b[0m \u001b[38;5;28;01mfrom\u001b[39;00m \u001b[38;5;21;01mtorch\u001b[39;00m \u001b[38;5;28;01mimport\u001b[39;00m nn\n\u001b[1;32m      9\u001b[0m \u001b[38;5;28;01mfrom\u001b[39;00m \u001b[38;5;21;01msbi\u001b[39;00m\u001b[38;5;21;01m.\u001b[39;00m\u001b[38;5;21;01mneural_nets\u001b[39;00m\u001b[38;5;21;01m.\u001b[39;00m\u001b[38;5;21;01mclassifier\u001b[39;00m \u001b[38;5;28;01mimport\u001b[39;00m (\n\u001b[1;32m     10\u001b[0m     build_linear_classifier,\n\u001b[1;32m     11\u001b[0m     build_mlp_classifier,\n\u001b[1;32m     12\u001b[0m     build_resnet_classifier,\n\u001b[1;32m     13\u001b[0m )\n\u001b[0;32m---> 14\u001b[0m \u001b[38;5;28;01mfrom\u001b[39;00m \u001b[38;5;21;01msbi\u001b[39;00m\u001b[38;5;21;01m.\u001b[39;00m\u001b[38;5;21;01mneural_nets\u001b[39;00m\u001b[38;5;21;01m.\u001b[39;00m\u001b[38;5;21;01mflow\u001b[39;00m \u001b[38;5;28;01mimport\u001b[39;00m build_made, build_maf, build_nsf\n\u001b[1;32m     15\u001b[0m \u001b[38;5;28;01mfrom\u001b[39;00m \u001b[38;5;21;01msbi\u001b[39;00m\u001b[38;5;21;01m.\u001b[39;00m\u001b[38;5;21;01mneural_nets\u001b[39;00m\u001b[38;5;21;01m.\u001b[39;00m\u001b[38;5;21;01mmdn\u001b[39;00m \u001b[38;5;28;01mimport\u001b[39;00m build_mdn\n\u001b[1;32m     16\u001b[0m \u001b[38;5;28;01mfrom\u001b[39;00m \u001b[38;5;21;01msbi\u001b[39;00m\u001b[38;5;21;01m.\u001b[39;00m\u001b[38;5;21;01mneural_nets\u001b[39;00m\u001b[38;5;21;01m.\u001b[39;00m\u001b[38;5;21;01mmnle\u001b[39;00m \u001b[38;5;28;01mimport\u001b[39;00m build_mnle\n",
      "\u001b[0;31mImportError\u001b[0m: cannot import name 'build_made' from partially initialized module 'sbi.neural_nets.flow' (most likely due to a circular import) (/data/mmould/envs/tf26/lib/python3.8/site-packages/sbi/neural_nets/flow.py)"
     ]
    }
   ],
   "source": [
    "import numpy as np\n",
    "import matplotlib.pyplot as plt\n",
    "cmap = plt.get_cmap('tab10')\n",
    "from sklearn import datasets\n",
    "import torch\n",
    "from copy import deepcopy\n",
    "from sbi.neural_nets.flow import build_nsf"
   ]
  },
  {
   "cell_type": "code",
   "execution_count": null,
   "id": "0f61e4a5-b8e3-4e0d-bd28-7ef3813397f4",
   "metadata": {},
   "outputs": [],
   "source": [
    "x, y = datasets.make_moons(1_000, noise=.1)\n",
    "plt.scatter(*x.T, c=y);"
   ]
  },
  {
   "cell_type": "code",
   "execution_count": 67,
   "id": "b6cd8a93-89f0-4b06-a7d4-a697f8908f3a",
   "metadata": {},
   "outputs": [
    {
     "data": {
      "text/plain": [
       "1"
      ]
     },
     "execution_count": 67,
     "metadata": {},
     "output_type": "execute_result"
    }
   ],
   "source": [
    "torch.tensor(y[:, None])[:1].numel()"
   ]
  },
  {
   "cell_type": "code",
   "execution_count": 68,
   "id": "eb55c5a9-87d7-49b6-b4b5-481310cf7a0c",
   "metadata": {},
   "outputs": [],
   "source": [
    "nsf = build_nsf(\n",
    "    batch_x=torch.from_numpy(x.astype(np.float32)),\n",
    "    batch_y=torch.from_numpy(y[:, None].astype(np.float32)),\n",
    "    z_score_x=None, #'independent',\n",
    "    z_score_y=None, #'independent',\n",
    "    )"
   ]
  },
  {
   "cell_type": "code",
   "execution_count": 79,
   "id": "0cf45635-40d2-4259-9da8-a7b14a3fce6d",
   "metadata": {},
   "outputs": [
    {
     "data": {
      "text/plain": [
       "(1, 1)"
      ]
     },
     "execution_count": 79,
     "metadata": {},
     "output_type": "execute_result"
    }
   ],
   "source": [
    "y[0][None, None].shape"
   ]
  },
  {
   "cell_type": "code",
   "execution_count": 83,
   "id": "049ff65e-84df-4a00-9a98-4764f2b6715b",
   "metadata": {},
   "outputs": [
    {
     "data": {
      "text/plain": [
       "torch.int64"
      ]
     },
     "execution_count": 83,
     "metadata": {},
     "output_type": "execute_result"
    }
   ],
   "source": [
    "torch.tensor(y[0]).dtype"
   ]
  },
  {
   "cell_type": "code",
   "execution_count": 1,
   "id": "6c762d86-681e-4000-a770-25841be2962d",
   "metadata": {},
   "outputs": [
    {
     "ename": "NameError",
     "evalue": "name 'nsf' is not defined",
     "output_type": "error",
     "traceback": [
      "\u001b[0;31m---------------------------------------------------------------------------\u001b[0m",
      "\u001b[0;31mNameError\u001b[0m                                 Traceback (most recent call last)",
      "Cell \u001b[0;32mIn [1], line 1\u001b[0m\n\u001b[0;32m----> 1\u001b[0m \u001b[43mnsf\u001b[49m\u001b[38;5;241m.\u001b[39msample(\u001b[38;5;241m1_000\u001b[39m, torch\u001b[38;5;241m.\u001b[39mtensor(y[\u001b[38;5;241m0\u001b[39m][\u001b[38;5;28;01mNone\u001b[39;00m, \u001b[38;5;28;01mNone\u001b[39;00m], dtype\u001b[38;5;241m=\u001b[39mtorch\u001b[38;5;241m.\u001b[39mfloat32))[\u001b[38;5;241m0\u001b[39m]\u001b[38;5;241m.\u001b[39mdetach()\u001b[38;5;241m.\u001b[39mnumpy()\n",
      "\u001b[0;31mNameError\u001b[0m: name 'nsf' is not defined"
     ]
    }
   ],
   "source": [
    "nsf.sample(1_000, torch.tensor(y[0][None, None], dtype=torch.float32))[0].detach().numpy()"
   ]
  },
  {
   "cell_type": "code",
   "execution_count": null,
   "id": "b6f8fbaf-ddec-4749-8c04-3e5e10c7301f",
   "metadata": {},
   "outputs": [],
   "source": []
  }
 ],
 "metadata": {
  "kernelspec": {
   "display_name": "tf26",
   "language": "python",
   "name": "tf26"
  },
  "language_info": {
   "codemirror_mode": {
    "name": "ipython",
    "version": 3
   },
   "file_extension": ".py",
   "mimetype": "text/x-python",
   "name": "python",
   "nbconvert_exporter": "python",
   "pygments_lexer": "ipython3",
   "version": "3.8.8"
  }
 },
 "nbformat": 4,
 "nbformat_minor": 5
}
