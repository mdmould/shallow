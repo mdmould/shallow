{
 "cells": [
  {
   "cell_type": "code",
   "execution_count": 1,
   "id": "6bdc9de4-6c5b-443f-a14e-e808fb6ea192",
   "metadata": {},
   "outputs": [
    {
     "name": "stderr",
     "output_type": "stream",
     "text": [
      "2022-07-06 08:39:31.966678: W tensorflow/stream_executor/platform/default/dso_loader.cc:64] Could not load dynamic library 'libcudart.so.11.0'; dlerror: libcudart.so.11.0: cannot open shared object file: No such file or directory\n",
      "2022-07-06 08:39:31.966703: I tensorflow/stream_executor/cuda/cudart_stub.cc:29] Ignore above cudart dlerror if you do not have a GPU set up on your machine.\n"
     ]
    }
   ],
   "source": [
    "import numpy as np\n",
    "import h5py\n",
    "import matplotlib.pyplot as plt\n",
    "import corner\n",
    "import tensorflow as tf\n",
    "import tensorflow_addons as tfa\n",
    "import tensorflow_probability as tfp\n",
    "\n",
    "tfd = tfp.distributions\n",
    "tfb = tfp.bijectors"
   ]
  },
  {
   "cell_type": "code",
   "execution_count": 2,
   "id": "9d3b8af1-d94d-4190-b97d-955cbe19220d",
   "metadata": {},
   "outputs": [],
   "source": [
    "n_samples = 1000\n",
    "\n",
    "data = np.random.uniform(size=[n_samples, 1])"
   ]
  },
  {
   "cell_type": "code",
   "execution_count": 3,
   "id": "6e391008-341c-4462-8052-b7f8403ebd7e",
   "metadata": {},
   "outputs": [],
   "source": [
    "def define_nf():\n",
    "    \n",
    "    return tfd.TransformedDistribution(\n",
    "        distribution=tfd.Sample(tfd.Normal(loc=0., scale=1.), sample_shape=[1]),\n",
    "        bijector=tfb.MaskedAutoregressiveFlow(tfb.AutoregressiveNetwork(\n",
    "            params=2,\n",
    "            hidden_units=[4],\n",
    "            activation='relu',\n",
    "            )),\n",
    "        )"
   ]
  },
  {
   "cell_type": "code",
   "execution_count": 4,
   "id": "f73ec256-c639-4f12-8850-fa0c27b61353",
   "metadata": {},
   "outputs": [
    {
     "name": "stderr",
     "output_type": "stream",
     "text": [
      "2022-07-06 08:39:33.662803: W tensorflow/stream_executor/platform/default/dso_loader.cc:64] Could not load dynamic library 'libcuda.so.1'; dlerror: libcuda.so.1: cannot open shared object file: No such file or directory\n",
      "2022-07-06 08:39:33.662827: W tensorflow/stream_executor/cuda/cuda_driver.cc:269] failed call to cuInit: UNKNOWN ERROR (303)\n",
      "2022-07-06 08:39:33.662839: I tensorflow/stream_executor/cuda/cuda_diagnostics.cc:156] kernel driver does not appear to be running on this host (phy-190401): /proc/driver/nvidia/version does not exist\n",
      "2022-07-06 08:39:33.663074: I tensorflow/core/platform/cpu_feature_guard.cc:193] This TensorFlow binary is optimized with oneAPI Deep Neural Network Library (oneDNN) to use the following CPU instructions in performance-critical operations:  AVX2 FMA\n",
      "To enable them in other operations, rebuild TensorFlow with the appropriate compiler flags.\n"
     ]
    }
   ],
   "source": [
    "nf = define_nf()"
   ]
  },
  {
   "cell_type": "code",
   "execution_count": 5,
   "id": "b7ad2a0d-b706-432a-987a-2c5d17d1560e",
   "metadata": {},
   "outputs": [],
   "source": [
    "def define_model(nf):\n",
    "    \n",
    "    x = tf.keras.Input(shape=[1], dtype=tf.float32)\n",
    "\n",
    "    return tf.keras.Model(inputs=x, outputs=nf.log_prob(x))"
   ]
  },
  {
   "cell_type": "code",
   "execution_count": 6,
   "id": "2e9010be-ae67-42cc-ae0f-3cad6be793bc",
   "metadata": {},
   "outputs": [],
   "source": [
    "model = define_model(nf)\n",
    "model.compile(\n",
    "    optimizer=tf.optimizers.Adam(),\n",
    "    loss=lambda _, log_prob: -log_prob,\n",
    "    )"
   ]
  },
  {
   "cell_type": "code",
   "execution_count": 7,
   "id": "28ad89f0-58cd-4c2f-a411-c2efae91ec70",
   "metadata": {},
   "outputs": [
    {
     "data": {
      "text/plain": [
       "((<tf.Variable 'dense_1/kernel:0' shape=(4, 2) dtype=float32, numpy=\n",
       "  array([[ 0.36922455,  0.7164767 ],\n",
       "         [-0.8297026 ,  0.8631344 ],\n",
       "         [-0.607779  ,  0.05939698],\n",
       "         [ 0.86367106, -0.37666106]], dtype=float32)>,\n",
       "  <tf.Variable 'dense_1/bias:0' shape=(2,) dtype=float32, numpy=array([0., 0.], dtype=float32)>,\n",
       "  <tf.Variable 'dense/kernel:0' shape=(1, 4) dtype=float32, numpy=array([[ 0., -0., -0.,  0.]], dtype=float32)>,\n",
       "  <tf.Variable 'dense/bias:0' shape=(4,) dtype=float32, numpy=array([0., 0., 0., 0.], dtype=float32)>),\n",
       " [<tf.Variable 'dense/kernel:0' shape=(1, 4) dtype=float32, numpy=array([[ 0., -0., -0.,  0.]], dtype=float32)>,\n",
       "  <tf.Variable 'dense/bias:0' shape=(4,) dtype=float32, numpy=array([0., 0., 0., 0.], dtype=float32)>,\n",
       "  <tf.Variable 'dense_1/kernel:0' shape=(4, 2) dtype=float32, numpy=\n",
       "  array([[ 0.36922455,  0.7164767 ],\n",
       "         [-0.8297026 ,  0.8631344 ],\n",
       "         [-0.607779  ,  0.05939698],\n",
       "         [ 0.86367106, -0.37666106]], dtype=float32)>,\n",
       "  <tf.Variable 'dense_1/bias:0' shape=(2,) dtype=float32, numpy=array([0., 0.], dtype=float32)>])"
      ]
     },
     "execution_count": 7,
     "metadata": {},
     "output_type": "execute_result"
    }
   ],
   "source": [
    "nf.variables, model.weights"
   ]
  },
  {
   "cell_type": "code",
   "execution_count": 8,
   "id": "37a44c05-6d7b-4021-b1fd-b4033edf93bd",
   "metadata": {},
   "outputs": [
    {
     "data": {
      "image/png": "[encoded data removed]",
      "text/plain": [
       "<Figure size 432x288 with 1 Axes>"
      ]
     },
     "metadata": {
      "needs_background": "light"
     },
     "output_type": "display_data"
    }
   ],
   "source": [
    "xx = np.linspace(-.5, 1.5, 100)\n",
    "px = np.exp(nf.log_prob(xx[:, None]))\n",
    "plt.plot(xx, px);"
   ]
  },
  {
   "cell_type": "code",
   "execution_count": 9,
   "id": "9d900b7c-d7af-45fd-bd2e-b93d0ebfd7cd",
   "metadata": {
    "scrolled": true,
    "tags": []
   },
   "outputs": [
    {
     "name": "stdout",
     "output_type": "stream",
     "text": [
      "Epoch 1/10\n",
      " 1/32 [..............................] - ETA: 25s - loss: 1.1039\n",
      "Epoch 1: loss improved from inf to 1.06777, saving model to ./saving.hdf5\n",
      "32/32 [==============================] - 1s 2ms/step - loss: 1.0678\n",
      "Epoch 2/10\n",
      "24/32 [=====================>........] - ETA: 0s - loss: 1.0342\n",
      "Epoch 2: loss improved from 1.06777 to 1.03016, saving model to ./saving.hdf5\n",
      "32/32 [==============================] - 0s 3ms/step - loss: 1.0302\n",
      "Epoch 3/10\n",
      "28/32 [=========================>....] - ETA: 0s - loss: 0.9958\n",
      "Epoch 3: loss improved from 1.03016 to 0.99211, saving model to ./saving.hdf5\n",
      "32/32 [==============================] - 0s 3ms/step - loss: 0.9921\n",
      "Epoch 4/10\n",
      "21/32 [==================>...........] - ETA: 0s - loss: 0.9585\n",
      "Epoch 4: loss improved from 0.99211 to 0.95380, saving model to ./saving.hdf5\n",
      "32/32 [==============================] - 0s 3ms/step - loss: 0.9538\n",
      "Epoch 5/10\n",
      "22/32 [===================>..........] - ETA: 0s - loss: 0.9207\n",
      "Epoch 5: loss improved from 0.95380 to 0.91524, saving model to ./saving.hdf5\n",
      "32/32 [==============================] - 0s 3ms/step - loss: 0.9152\n",
      "Epoch 6/10\n",
      "23/32 [====================>.........] - ETA: 0s - loss: 0.8811\n",
      "Epoch 6: loss improved from 0.91524 to 0.87663, saving model to ./saving.hdf5\n",
      "32/32 [==============================] - 0s 3ms/step - loss: 0.8766\n",
      "Epoch 7/10\n",
      "26/32 [=======================>......] - ETA: 0s - loss: 0.8399\n",
      "Epoch 7: loss improved from 0.87663 to 0.83806, saving model to ./saving.hdf5\n",
      "32/32 [==============================] - 0s 3ms/step - loss: 0.8381\n",
      "Epoch 8/10\n",
      "24/32 [=====================>........] - ETA: 0s - loss: 0.8010\n",
      "Epoch 8: loss improved from 0.83806 to 0.79987, saving model to ./saving.hdf5\n",
      "32/32 [==============================] - 0s 3ms/step - loss: 0.7999\n",
      "Epoch 9/10\n",
      "22/32 [===================>..........] - ETA: 0s - loss: 0.7647\n",
      "Epoch 9: loss improved from 0.79987 to 0.76215, saving model to ./saving.hdf5\n",
      "32/32 [==============================] - 0s 3ms/step - loss: 0.7622\n",
      "Epoch 10/10\n",
      "23/32 [====================>.........] - ETA: 0s - loss: 0.7273\n",
      "Epoch 10: loss improved from 0.76215 to 0.72517, saving model to ./saving.hdf5\n",
      "32/32 [==============================] - 0s 3ms/step - loss: 0.7252\n"
     ]
    }
   ],
   "source": [
    "callbacks = [\n",
    "    tf.keras.callbacks.ModelCheckpoint(\n",
    "        filepath='./saving.hdf5',\n",
    "        monitor='loss',\n",
    "        mode='min',\n",
    "        save_weights_only=True,\n",
    "        save_best_only=True,\n",
    "        save_freq='epoch',\n",
    "        verbose=1,\n",
    "        ),\n",
    "    ]\n",
    "\n",
    "result = model.fit(\n",
    "    x=data, y=np.zeros(n_samples), epochs=10, callbacks=callbacks,\n",
    "    )"
   ]
  },
  {
   "cell_type": "code",
   "execution_count": 10,
   "id": "41342979-02c0-4b49-8161-a382c23d8b5f",
   "metadata": {},
   "outputs": [
    {
     "data": {
      "text/plain": [
       "((<tf.Variable 'dense_1/kernel:0' shape=(4, 2) dtype=float32, numpy=\n",
       "  array([[ 0.36922455,  0.7164767 ],\n",
       "         [-0.8297026 ,  0.8631344 ],\n",
       "         [-0.607779  ,  0.05939698],\n",
       "         [ 0.86367106, -0.37666106]], dtype=float32)>,\n",
       "  <tf.Variable 'dense_1/bias:0' shape=(2,) dtype=float32, numpy=array([ 0.30416417, -0.32889363], dtype=float32)>,\n",
       "  <tf.Variable 'dense/kernel:0' shape=(1, 4) dtype=float32, numpy=array([[0., 0., 0., 0.]], dtype=float32)>,\n",
       "  <tf.Variable 'dense/bias:0' shape=(4,) dtype=float32, numpy=array([0., 0., 0., 0.], dtype=float32)>),\n",
       " [<tf.Variable 'dense/kernel:0' shape=(1, 4) dtype=float32, numpy=array([[0., 0., 0., 0.]], dtype=float32)>,\n",
       "  <tf.Variable 'dense/bias:0' shape=(4,) dtype=float32, numpy=array([0., 0., 0., 0.], dtype=float32)>,\n",
       "  <tf.Variable 'dense_1/kernel:0' shape=(4, 2) dtype=float32, numpy=\n",
       "  array([[ 0.36922455,  0.7164767 ],\n",
       "         [-0.8297026 ,  0.8631344 ],\n",
       "         [-0.607779  ,  0.05939698],\n",
       "         [ 0.86367106, -0.37666106]], dtype=float32)>,\n",
       "  <tf.Variable 'dense_1/bias:0' shape=(2,) dtype=float32, numpy=array([ 0.30416417, -0.32889363], dtype=float32)>])"
      ]
     },
     "execution_count": 10,
     "metadata": {},
     "output_type": "execute_result"
    }
   ],
   "source": [
    "nf.variables, model.weights"
   ]
  },
  {
   "cell_type": "code",
   "execution_count": 11,
   "id": "befb800f-17e5-4606-9c21-97465d1b8806",
   "metadata": {},
   "outputs": [
    {
     "data": {
      "image/png": "[encoded data removed]",
      "text/plain": [
       "<Figure size 432x288 with 1 Axes>"
      ]
     },
     "metadata": {
      "needs_background": "light"
     },
     "output_type": "display_data"
    }
   ],
   "source": [
    "plt.plot(xx, px)\n",
    "\n",
    "px = np.exp(nf.log_prob(xx[:, None]))\n",
    "plt.plot(xx, px)\n",
    "\n",
    "px_ = np.exp(model.predict_on_batch(xx))\n",
    "plt.plot(xx, px_, ls='--');"
   ]
  },
  {
   "cell_type": "code",
   "execution_count": 12,
   "id": "5716e332-15b4-4942-a1a4-df768e3171b0",
   "metadata": {},
   "outputs": [
    {
     "name": "stdout",
     "output_type": "stream",
     "text": [
      "<KeysViewHDF5 ['autoregressive_network', 'input_1', 'tf.__operators__.add', 'tf.__operators__.add_1', 'tf.broadcast_dynamic_shape', 'tf.broadcast_to', 'tf.cast', 'tf.compat.v1.pad', 'tf.compat.v1.shape', 'tf.compat.v1.shape_1', 'tf.compat.v1.shape_3', 'tf.compat.v1.shape_4', 'tf.compat.v1.transpose', 'tf.convert_to_tensor', 'tf.convert_to_tensor_1', 'tf.convert_to_tensor_10', 'tf.convert_to_tensor_2', 'tf.convert_to_tensor_3', 'tf.convert_to_tensor_5', 'tf.convert_to_tensor_6', 'tf.convert_to_tensor_7', 'tf.convert_to_tensor_8', 'tf.convert_to_tensor_9', 'tf.identity', 'tf.identity_2', 'tf.math.exp', 'tf.math.multiply', 'tf.math.multiply_1', 'tf.math.multiply_3', 'tf.math.multiply_4', 'tf.math.multiply_5', 'tf.math.negative', 'tf.math.negative_2', 'tf.math.negative_3', 'tf.math.reduce_sum', 'tf.math.reduce_sum_1', 'tf.math.reduce_sum_2', 'tf.math.reduce_sum_3', 'tf.math.squared_difference', 'tf.math.subtract', 'tf.math.subtract_1', 'tf.math.subtract_2', 'tf.math.subtract_3', 'tf.math.truediv', 'tf.ones', 'tf.ones_1', 'tf.reshape', 'tf.slice_1', 'tf.slice_2', 'tf.unstack', 'tf.unstack_1', 'top_level_model_weights']>\n"
     ]
    }
   ],
   "source": [
    "with h5py.File('./saving.hdf5', 'r') as h:\n",
    "    print(h.keys())"
   ]
  },
  {
   "cell_type": "code",
   "execution_count": 13,
   "id": "f58da1cd-2eeb-4eb8-abac-0f2f7c04ccfb",
   "metadata": {},
   "outputs": [
    {
     "data": {
      "text/plain": [
       "((<tf.Variable 'dense_1/kernel:0' shape=(4, 2) dtype=float32, numpy=\n",
       "  array([[ 0.36868167, -0.95214295],\n",
       "         [ 0.97661686, -0.7839234 ],\n",
       "         [ 0.24784422, -0.31023717],\n",
       "         [ 0.40943217, -0.1563251 ]], dtype=float32)>,\n",
       "  <tf.Variable 'dense_1/bias:0' shape=(2,) dtype=float32, numpy=array([0., 0.], dtype=float32)>,\n",
       "  <tf.Variable 'dense/kernel:0' shape=(1, 4) dtype=float32, numpy=array([[-0.,  0., -0.,  0.]], dtype=float32)>,\n",
       "  <tf.Variable 'dense/bias:0' shape=(4,) dtype=float32, numpy=array([0., 0., 0., 0.], dtype=float32)>),\n",
       " [<tf.Variable 'dense/kernel:0' shape=(1, 4) dtype=float32, numpy=array([[-0.,  0., -0.,  0.]], dtype=float32)>,\n",
       "  <tf.Variable 'dense/bias:0' shape=(4,) dtype=float32, numpy=array([0., 0., 0., 0.], dtype=float32)>,\n",
       "  <tf.Variable 'dense_1/kernel:0' shape=(4, 2) dtype=float32, numpy=\n",
       "  array([[ 0.36868167, -0.95214295],\n",
       "         [ 0.97661686, -0.7839234 ],\n",
       "         [ 0.24784422, -0.31023717],\n",
       "         [ 0.40943217, -0.1563251 ]], dtype=float32)>,\n",
       "  <tf.Variable 'dense_1/bias:0' shape=(2,) dtype=float32, numpy=array([0., 0.], dtype=float32)>])"
      ]
     },
     "execution_count": 13,
     "metadata": {},
     "output_type": "execute_result"
    }
   ],
   "source": [
    "nf = define_nf()\n",
    "model = define_model(nf)\n",
    "nf.variables, model.weights"
   ]
  },
  {
   "cell_type": "code",
   "execution_count": 14,
   "id": "9fc75c69-3d8a-4387-a387-8cc90934bef4",
   "metadata": {},
   "outputs": [
    {
     "data": {
      "text/plain": [
       "((<tf.Variable 'dense_1/kernel:0' shape=(4, 2) dtype=float32, numpy=\n",
       "  array([[ 0.36922455,  0.7164767 ],\n",
       "         [-0.8297026 ,  0.8631344 ],\n",
       "         [-0.607779  ,  0.05939698],\n",
       "         [ 0.86367106, -0.37666106]], dtype=float32)>,\n",
       "  <tf.Variable 'dense_1/bias:0' shape=(2,) dtype=float32, numpy=array([ 0.30416417, -0.32889363], dtype=float32)>,\n",
       "  <tf.Variable 'dense/kernel:0' shape=(1, 4) dtype=float32, numpy=array([[0., 0., 0., 0.]], dtype=float32)>,\n",
       "  <tf.Variable 'dense/bias:0' shape=(4,) dtype=float32, numpy=array([0., 0., 0., 0.], dtype=float32)>),\n",
       " [<tf.Variable 'dense/kernel:0' shape=(1, 4) dtype=float32, numpy=array([[0., 0., 0., 0.]], dtype=float32)>,\n",
       "  <tf.Variable 'dense/bias:0' shape=(4,) dtype=float32, numpy=array([0., 0., 0., 0.], dtype=float32)>,\n",
       "  <tf.Variable 'dense_1/kernel:0' shape=(4, 2) dtype=float32, numpy=\n",
       "  array([[ 0.36922455,  0.7164767 ],\n",
       "         [-0.8297026 ,  0.8631344 ],\n",
       "         [-0.607779  ,  0.05939698],\n",
       "         [ 0.86367106, -0.37666106]], dtype=float32)>,\n",
       "  <tf.Variable 'dense_1/bias:0' shape=(2,) dtype=float32, numpy=array([ 0.30416417, -0.32889363], dtype=float32)>])"
      ]
     },
     "execution_count": 14,
     "metadata": {},
     "output_type": "execute_result"
    }
   ],
   "source": [
    "model.load_weights('./saving.hdf5')\n",
    "nf.variables, model.weights"
   ]
  },
  {
   "cell_type": "code",
   "execution_count": 15,
   "id": "f4b25ef3-7824-4864-82a6-901e7bd785aa",
   "metadata": {},
   "outputs": [
    {
     "data": {
      "image/png": "[encoded data removed]",
      "text/plain": [
       "<Figure size 432x288 with 1 Axes>"
      ]
     },
     "metadata": {
      "needs_background": "light"
     },
     "output_type": "display_data"
    }
   ],
   "source": [
    "plt.plot(xx, px, lw=10)\n",
    "\n",
    "px = np.exp(nf.log_prob(xx[:, None]))\n",
    "plt.plot(xx, px, lw=5)\n",
    "\n",
    "px_ = np.exp(model.predict_on_batch(xx))\n",
    "plt.plot(xx, px_, ls='--', lw=2);"
   ]
  },
  {
   "cell_type": "code",
   "execution_count": null,
   "id": "c1027440-5e6d-43c9-a50f-df03d9384f4a",
   "metadata": {},
   "outputs": [],
   "source": []
  }
 ],
 "metadata": {
  "kernelspec": {
   "display_name": "probflow",
   "language": "python",
   "name": "probflow"
  },
  "language_info": {
   "codemirror_mode": {
    "name": "ipython",
    "version": 3
   },
   "file_extension": ".py",
   "mimetype": "text/x-python",
   "name": "python",
   "nbconvert_exporter": "python",
   "pygments_lexer": "ipython3",
   "version": "3.9.13"
  }
 },
 "nbformat": 4,
 "nbformat_minor": 5
}
