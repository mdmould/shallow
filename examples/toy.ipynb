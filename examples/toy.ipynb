{
 "cells": [
  {
   "cell_type": "code",
   "execution_count": 1,
   "id": "35850e41-216f-45b6-859e-3b5b4954e91c",
   "metadata": {},
   "outputs": [],
   "source": [
    "import numpy as np\n",
    "import matplotlib.pyplot as plt\n",
    "import torch\n",
    "from shallow.torch.flows import AffineAutoregressiveFlow, trainer"
   ]
  },
  {
   "cell_type": "code",
   "execution_count": 2,
   "id": "96875c47-fc9e-43d3-950c-024a513f2079",
   "metadata": {},
   "outputs": [],
   "source": [
    "x = np.random.randn(1_000) * 2 + 3"
   ]
  },
  {
   "cell_type": "code",
   "execution_count": 3,
   "id": "1cbf97a0-7a52-49f7-a44d-e5fece156289",
   "metadata": {},
   "outputs": [
    {
     "data": {
      "image/png": "[encoded data removed]",
      "text/plain": [
       "<Figure size 640x480 with 1 Axes>"
      ]
     },
     "metadata": {},
     "output_type": "display_data"
    }
   ],
   "source": [
    "plt.hist(x);"
   ]
  },
  {
   "cell_type": "code",
   "execution_count": 4,
   "id": "b376d1bd-b28a-4e8f-a50c-db32b1ea5fdd",
   "metadata": {},
   "outputs": [],
   "source": [
    "flow = AffineAutoregressiveFlow(\n",
    "    inputs=1, # Number of parameter dimensions\n",
    "    contexts=None, # Number of conditional dimensions\n",
    "    bounds=None, # Parameter boundaries\n",
    "    norm_inputs=False, # Standardize parameters, bool or array/tensor\n",
    "    norm_contexts=False, # Standardize contexts, bool or array/tensor\n",
    "    transforms=1, # Number of flow layers\n",
    "    residual=False, # MLP (False) or residual network (True)\n",
    "    blocks=1, # Number of blocks/layers in the net\n",
    "    hidden=10, # Number of hidden units in each block/layer of the net\n",
    "    activation='relu', # Activation function\n",
    "    dropout=0.0, # Dropout probability for hidden units, 0 <= dropout < 1\n",
    "    batchnorm_within=False, # Batch normalization within the net\n",
    "    batchnorm_between=False, # Batch normalization between flow layers\n",
    "    permutation=None, # None, 'random', 'reverse', or list\n",
    "    linear=None, # None or 'lu'\n",
    "    embedding=None, # Network to embed contexts\n",
    "    distribution=None, # None (standard normal) or nflows Distribution\n",
    "    # **kwargs, # Keyword arguments passed to transform constructor\n",
    "    mask=False,\n",
    "    )"
   ]
  },
  {
   "cell_type": "code",
   "execution_count": 5,
   "id": "58a5f923-b7df-4a33-8e1a-1c180c4f04e8",
   "metadata": {
    "scrolled": true
   },
   "outputs": [
    {
     "name": "stdout",
     "output_type": "stream",
     "text": [
      "Epoch 1\n"
     ]
    },
    {
     "name": "stderr",
     "output_type": "stream",
     "text": [
      "Train batch: 100%|█████████████████████████████████████████████████| 20/20 [00:00<00:00, 281.21it/s]\n"
     ]
    },
    {
     "name": "stdout",
     "output_type": "stream",
     "text": [
      "5.718846011161804\n",
      "Loss improved\n",
      "\n",
      "Epoch 2\n"
     ]
    },
    {
     "name": "stderr",
     "output_type": "stream",
     "text": [
      "Train batch: 100%|█████████████████████████████████████████████████| 20/20 [00:00<00:00, 319.45it/s]\n"
     ]
    },
    {
     "name": "stdout",
     "output_type": "stream",
     "text": [
      "5.109533071517944\n",
      "Loss improved\n",
      "\n",
      "Epoch 3\n"
     ]
    },
    {
     "name": "stderr",
     "output_type": "stream",
     "text": [
      "Train batch: 100%|█████████████████████████████████████████████████| 20/20 [00:00<00:00, 815.16it/s]\n"
     ]
    },
    {
     "name": "stdout",
     "output_type": "stream",
     "text": [
      "4.594005393981933\n",
      "Loss improved\n",
      "\n",
      "Epoch 4\n"
     ]
    },
    {
     "name": "stderr",
     "output_type": "stream",
     "text": [
      "Train batch: 100%|█████████████████████████████████████████████████| 20/20 [00:00<00:00, 709.32it/s]\n"
     ]
    },
    {
     "name": "stdout",
     "output_type": "stream",
     "text": [
      "4.13377171754837\n",
      "Loss improved\n",
      "\n",
      "Epoch 5\n"
     ]
    },
    {
     "name": "stderr",
     "output_type": "stream",
     "text": [
      "Train batch: 100%|█████████████████████████████████████████████████| 20/20 [00:00<00:00, 786.64it/s]\n"
     ]
    },
    {
     "name": "stdout",
     "output_type": "stream",
     "text": [
      "3.724085283279419\n",
      "Loss improved\n",
      "\n",
      "Epoch 6\n"
     ]
    },
    {
     "name": "stderr",
     "output_type": "stream",
     "text": [
      "Train batch: 100%|█████████████████████████████████████████████████| 20/20 [00:00<00:00, 770.45it/s]\n"
     ]
    },
    {
     "name": "stdout",
     "output_type": "stream",
     "text": [
      "3.3678533911705015\n",
      "Loss improved\n",
      "\n",
      "Epoch 7\n"
     ]
    },
    {
     "name": "stderr",
     "output_type": "stream",
     "text": [
      "Train batch: 100%|█████████████████████████████████████████████████| 20/20 [00:00<00:00, 793.38it/s]\n"
     ]
    },
    {
     "name": "stdout",
     "output_type": "stream",
     "text": [
      "3.0729900598526\n",
      "Loss improved\n",
      "\n",
      "Epoch 8\n"
     ]
    },
    {
     "name": "stderr",
     "output_type": "stream",
     "text": [
      "Train batch: 100%|█████████████████████████████████████████████████| 20/20 [00:00<00:00, 784.77it/s]\n"
     ]
    },
    {
     "name": "stdout",
     "output_type": "stream",
     "text": [
      "2.8357773303985594\n",
      "Loss improved\n",
      "\n",
      "Epoch 9\n"
     ]
    },
    {
     "name": "stderr",
     "output_type": "stream",
     "text": [
      "Train batch: 100%|█████████████████████████████████████████████████| 20/20 [00:00<00:00, 385.63it/s]\n"
     ]
    },
    {
     "name": "stdout",
     "output_type": "stream",
     "text": [
      "2.6623249650001526\n",
      "Loss improved\n",
      "\n",
      "Epoch 10\n"
     ]
    },
    {
     "name": "stderr",
     "output_type": "stream",
     "text": [
      "Train batch: 100%|█████████████████████████████████████████████████| 20/20 [00:00<00:00, 847.61it/s]\n"
     ]
    },
    {
     "name": "stdout",
     "output_type": "stream",
     "text": [
      "2.5348703503608703\n",
      "Loss improved\n",
      "\n",
      "Epoch 11\n"
     ]
    },
    {
     "name": "stderr",
     "output_type": "stream",
     "text": [
      "Train batch: 100%|█████████████████████████████████████████████████| 20/20 [00:00<00:00, 799.33it/s]\n"
     ]
    },
    {
     "name": "stdout",
     "output_type": "stream",
     "text": [
      "2.448246920108795\n",
      "Loss improved\n",
      "\n",
      "Epoch 12\n"
     ]
    },
    {
     "name": "stderr",
     "output_type": "stream",
     "text": [
      "Train batch: 100%|█████████████████████████████████████████████████| 20/20 [00:00<00:00, 866.31it/s]\n"
     ]
    },
    {
     "name": "stdout",
     "output_type": "stream",
     "text": [
      "2.3892706871032714\n",
      "Loss improved\n",
      "\n",
      "Epoch 13\n"
     ]
    },
    {
     "name": "stderr",
     "output_type": "stream",
     "text": [
      "Train batch: 100%|█████████████████████████████████████████████████| 20/20 [00:00<00:00, 799.71it/s]\n"
     ]
    },
    {
     "name": "stdout",
     "output_type": "stream",
     "text": [
      "2.3484355092048643\n",
      "Loss improved\n",
      "\n",
      "Epoch 14\n"
     ]
    },
    {
     "name": "stderr",
     "output_type": "stream",
     "text": [
      "Train batch: 100%|█████████████████████████████████████████████████| 20/20 [00:00<00:00, 494.38it/s]\n"
     ]
    },
    {
     "name": "stdout",
     "output_type": "stream",
     "text": [
      "2.3174128890037538\n",
      "Loss improved\n",
      "\n",
      "Epoch 15\n"
     ]
    },
    {
     "name": "stderr",
     "output_type": "stream",
     "text": [
      "Train batch: 100%|█████████████████████████████████████████████████| 20/20 [00:00<00:00, 669.57it/s]\n"
     ]
    },
    {
     "name": "stdout",
     "output_type": "stream",
     "text": [
      "2.293232274055481\n",
      "Loss improved\n",
      "\n",
      "Epoch 16\n"
     ]
    },
    {
     "name": "stderr",
     "output_type": "stream",
     "text": [
      "Train batch: 100%|█████████████████████████████████████████████████| 20/20 [00:00<00:00, 415.55it/s]\n"
     ]
    },
    {
     "name": "stdout",
     "output_type": "stream",
     "text": [
      "2.272470259666443\n",
      "Loss improved\n",
      "\n",
      "Epoch 17\n"
     ]
    },
    {
     "name": "stderr",
     "output_type": "stream",
     "text": [
      "Train batch: 100%|█████████████████████████████████████████████████| 20/20 [00:00<00:00, 342.27it/s]\n"
     ]
    },
    {
     "name": "stdout",
     "output_type": "stream",
     "text": [
      "2.2536192774772643\n",
      "Loss improved\n",
      "\n",
      "Epoch 18\n"
     ]
    },
    {
     "name": "stderr",
     "output_type": "stream",
     "text": [
      "Train batch: 100%|█████████████████████████████████████████████████| 20/20 [00:00<00:00, 295.73it/s]\n"
     ]
    },
    {
     "name": "stdout",
     "output_type": "stream",
     "text": [
      "2.2364868402481077\n",
      "Loss improved\n",
      "\n",
      "Epoch 19\n"
     ]
    },
    {
     "name": "stderr",
     "output_type": "stream",
     "text": [
      "Train batch: 100%|█████████████████████████████████████████████████| 20/20 [00:00<00:00, 226.32it/s]\n"
     ]
    },
    {
     "name": "stdout",
     "output_type": "stream",
     "text": [
      "2.220104789733887\n",
      "Loss improved\n",
      "\n",
      "Epoch 20\n"
     ]
    },
    {
     "name": "stderr",
     "output_type": "stream",
     "text": [
      "Train batch: 100%|█████████████████████████████████████████████████| 20/20 [00:00<00:00, 801.25it/s]\n"
     ]
    },
    {
     "name": "stdout",
     "output_type": "stream",
     "text": [
      "2.2053479313850404\n",
      "Loss improved\n",
      "\n",
      "Epoch 21\n"
     ]
    },
    {
     "name": "stderr",
     "output_type": "stream",
     "text": [
      "Train batch: 100%|█████████████████████████████████████████████████| 20/20 [00:00<00:00, 797.87it/s]\n"
     ]
    },
    {
     "name": "stdout",
     "output_type": "stream",
     "text": [
      "2.191338539123535\n",
      "Loss improved\n",
      "\n",
      "Epoch 22\n"
     ]
    },
    {
     "name": "stderr",
     "output_type": "stream",
     "text": [
      "Train batch: 100%|█████████████████████████████████████████████████| 20/20 [00:00<00:00, 800.55it/s]\n"
     ]
    },
    {
     "name": "stdout",
     "output_type": "stream",
     "text": [
      "2.1782458662986754\n",
      "Loss improved\n",
      "\n",
      "Epoch 23\n"
     ]
    },
    {
     "name": "stderr",
     "output_type": "stream",
     "text": [
      "Train batch: 100%|█████████████████████████████████████████████████| 20/20 [00:00<00:00, 761.06it/s]\n"
     ]
    },
    {
     "name": "stdout",
     "output_type": "stream",
     "text": [
      "2.1663544893264772\n",
      "Loss improved\n",
      "\n",
      "Epoch 24\n"
     ]
    },
    {
     "name": "stderr",
     "output_type": "stream",
     "text": [
      "Train batch: 100%|█████████████████████████████████████████████████| 20/20 [00:00<00:00, 773.24it/s]\n"
     ]
    },
    {
     "name": "stdout",
     "output_type": "stream",
     "text": [
      "2.154890203475952\n",
      "Loss improved\n",
      "\n",
      "Epoch 25\n"
     ]
    },
    {
     "name": "stderr",
     "output_type": "stream",
     "text": [
      "Train batch: 100%|█████████████████████████████████████████████████| 20/20 [00:00<00:00, 788.54it/s]\n"
     ]
    },
    {
     "name": "stdout",
     "output_type": "stream",
     "text": [
      "2.1449502229690554\n",
      "Loss improved\n",
      "\n",
      "Epoch 26\n"
     ]
    },
    {
     "name": "stderr",
     "output_type": "stream",
     "text": [
      "Train batch: 100%|█████████████████████████████████████████████████| 20/20 [00:00<00:00, 762.37it/s]\n"
     ]
    },
    {
     "name": "stdout",
     "output_type": "stream",
     "text": [
      "2.135561168193817\n",
      "Loss improved\n",
      "\n",
      "Epoch 27\n"
     ]
    },
    {
     "name": "stderr",
     "output_type": "stream",
     "text": [
      "Train batch: 100%|█████████████████████████████████████████████████| 20/20 [00:00<00:00, 478.37it/s]\n"
     ]
    },
    {
     "name": "stdout",
     "output_type": "stream",
     "text": [
      "2.127465844154358\n",
      "Loss improved\n",
      "\n",
      "Epoch 28\n"
     ]
    },
    {
     "name": "stderr",
     "output_type": "stream",
     "text": [
      "Train batch: 100%|█████████████████████████████████████████████████| 20/20 [00:00<00:00, 776.06it/s]\n"
     ]
    },
    {
     "name": "stdout",
     "output_type": "stream",
     "text": [
      "2.1207725763320924\n",
      "Loss improved\n",
      "\n",
      "Epoch 29\n"
     ]
    },
    {
     "name": "stderr",
     "output_type": "stream",
     "text": [
      "Train batch: 100%|█████████████████████████████████████████████████| 20/20 [00:00<00:00, 741.23it/s]\n"
     ]
    },
    {
     "name": "stdout",
     "output_type": "stream",
     "text": [
      "2.1152191877365114\n",
      "Loss improved\n",
      "\n",
      "Epoch 30\n"
     ]
    },
    {
     "name": "stderr",
     "output_type": "stream",
     "text": [
      "Train batch: 100%|█████████████████████████████████████████████████| 20/20 [00:00<00:00, 750.15it/s]\n"
     ]
    },
    {
     "name": "stdout",
     "output_type": "stream",
     "text": [
      "2.1105179309844972\n",
      "Loss improved\n",
      "\n",
      "Epoch 31\n"
     ]
    },
    {
     "name": "stderr",
     "output_type": "stream",
     "text": [
      "Train batch: 100%|█████████████████████████████████████████████████| 20/20 [00:00<00:00, 801.91it/s]\n"
     ]
    },
    {
     "name": "stdout",
     "output_type": "stream",
     "text": [
      "2.107314372062683\n",
      "Loss improved\n",
      "\n",
      "Epoch 32\n"
     ]
    },
    {
     "name": "stderr",
     "output_type": "stream",
     "text": [
      "Train batch: 100%|█████████████████████████████████████████████████| 20/20 [00:00<00:00, 808.99it/s]\n"
     ]
    },
    {
     "name": "stdout",
     "output_type": "stream",
     "text": [
      "2.1050854504108427\n",
      "Loss improved\n",
      "\n",
      "Epoch 33\n"
     ]
    },
    {
     "name": "stderr",
     "output_type": "stream",
     "text": [
      "Train batch: 100%|█████████████████████████████████████████████████| 20/20 [00:00<00:00, 527.80it/s]\n"
     ]
    },
    {
     "name": "stdout",
     "output_type": "stream",
     "text": [
      "2.10382120013237\n",
      "Loss improved\n",
      "\n",
      "Epoch 34\n"
     ]
    },
    {
     "name": "stderr",
     "output_type": "stream",
     "text": [
      "Train batch: 100%|█████████████████████████████████████████████████| 20/20 [00:00<00:00, 754.57it/s]\n"
     ]
    },
    {
     "name": "stdout",
     "output_type": "stream",
     "text": [
      "2.1024240016937257\n",
      "Loss improved\n",
      "\n",
      "Epoch 35\n"
     ]
    },
    {
     "name": "stderr",
     "output_type": "stream",
     "text": [
      "Train batch: 100%|█████████████████████████████████████████████████| 20/20 [00:00<00:00, 678.90it/s]\n"
     ]
    },
    {
     "name": "stdout",
     "output_type": "stream",
     "text": [
      "2.1019494473934173\n",
      "Loss improved\n",
      "\n",
      "Epoch 36\n"
     ]
    },
    {
     "name": "stderr",
     "output_type": "stream",
     "text": [
      "Train batch: 100%|█████████████████████████████████████████████████| 20/20 [00:00<00:00, 669.84it/s]\n"
     ]
    },
    {
     "name": "stdout",
     "output_type": "stream",
     "text": [
      "2.1017526388168335\n",
      "Loss improved\n",
      "\n",
      "Epoch 37\n"
     ]
    },
    {
     "name": "stderr",
     "output_type": "stream",
     "text": [
      "Train batch: 100%|█████████████████████████████████████████████████| 20/20 [00:00<00:00, 817.48it/s]\n"
     ]
    },
    {
     "name": "stdout",
     "output_type": "stream",
     "text": [
      "2.101357638835907\n",
      "Loss improved\n",
      "\n",
      "Epoch 38\n"
     ]
    },
    {
     "name": "stderr",
     "output_type": "stream",
     "text": [
      "Train batch: 100%|█████████████████████████████████████████████████| 20/20 [00:00<00:00, 645.46it/s]\n"
     ]
    },
    {
     "name": "stdout",
     "output_type": "stream",
     "text": [
      "2.1011952996253966\n",
      "Loss improved\n",
      "\n",
      "Epoch 39\n"
     ]
    },
    {
     "name": "stderr",
     "output_type": "stream",
     "text": [
      "Train batch: 100%|█████████████████████████████████████████████████| 20/20 [00:00<00:00, 536.66it/s]\n"
     ]
    },
    {
     "name": "stdout",
     "output_type": "stream",
     "text": [
      "2.101260280609131\n",
      "\n",
      "Epoch 40\n"
     ]
    },
    {
     "name": "stderr",
     "output_type": "stream",
     "text": [
      "Train batch: 100%|█████████████████████████████████████████████████| 20/20 [00:00<00:00, 345.78it/s]\n"
     ]
    },
    {
     "name": "stdout",
     "output_type": "stream",
     "text": [
      "2.1010988295078277\n",
      "Loss improved\n",
      "\n",
      "Epoch 41\n"
     ]
    },
    {
     "name": "stderr",
     "output_type": "stream",
     "text": [
      "Train batch: 100%|█████████████████████████████████████████████████| 20/20 [00:00<00:00, 126.09it/s]\n"
     ]
    },
    {
     "name": "stdout",
     "output_type": "stream",
     "text": [
      "2.1025142312049865\n",
      "\n",
      "Epoch 42\n"
     ]
    },
    {
     "name": "stderr",
     "output_type": "stream",
     "text": [
      "Train batch: 100%|█████████████████████████████████████████████████| 20/20 [00:00<00:00, 652.16it/s]\n"
     ]
    },
    {
     "name": "stdout",
     "output_type": "stream",
     "text": [
      "2.1006895661354066\n",
      "Loss improved\n",
      "\n",
      "Epoch 43\n"
     ]
    },
    {
     "name": "stderr",
     "output_type": "stream",
     "text": [
      "Train batch: 100%|█████████████████████████████████████████████████| 20/20 [00:00<00:00, 446.81it/s]\n"
     ]
    },
    {
     "name": "stdout",
     "output_type": "stream",
     "text": [
      "2.1011042654514314\n",
      "\n",
      "Epoch 44\n"
     ]
    },
    {
     "name": "stderr",
     "output_type": "stream",
     "text": [
      "Train batch: 100%|█████████████████████████████████████████████████| 20/20 [00:00<00:00, 780.11it/s]\n"
     ]
    },
    {
     "name": "stdout",
     "output_type": "stream",
     "text": [
      "2.1012248635292052\n",
      "\n",
      "Epoch 45\n"
     ]
    },
    {
     "name": "stderr",
     "output_type": "stream",
     "text": [
      "Train batch: 100%|█████████████████████████████████████████████████| 20/20 [00:00<00:00, 763.00it/s]\n"
     ]
    },
    {
     "name": "stdout",
     "output_type": "stream",
     "text": [
      "2.100953221321106\n",
      "\n",
      "Epoch 46\n"
     ]
    },
    {
     "name": "stderr",
     "output_type": "stream",
     "text": [
      "Train batch: 100%|█████████████████████████████████████████████████| 20/20 [00:00<00:00, 729.88it/s]\n"
     ]
    },
    {
     "name": "stdout",
     "output_type": "stream",
     "text": [
      "2.101173830032349\n",
      "\n",
      "Epoch 47\n"
     ]
    },
    {
     "name": "stderr",
     "output_type": "stream",
     "text": [
      "Train batch: 100%|█████████████████████████████████████████████████| 20/20 [00:00<00:00, 282.37it/s]\n"
     ]
    },
    {
     "name": "stdout",
     "output_type": "stream",
     "text": [
      "2.101633685827255\n",
      "\n",
      "Epoch 48\n"
     ]
    },
    {
     "name": "stderr",
     "output_type": "stream",
     "text": [
      "Train batch: 100%|█████████████████████████████████████████████████| 20/20 [00:00<00:00, 372.68it/s]\n"
     ]
    },
    {
     "name": "stdout",
     "output_type": "stream",
     "text": [
      "2.100960153341293\n",
      "\n",
      "Epoch 49\n"
     ]
    },
    {
     "name": "stderr",
     "output_type": "stream",
     "text": [
      "Train batch: 100%|█████████████████████████████████████████████████| 20/20 [00:00<00:00, 506.82it/s]\n"
     ]
    },
    {
     "name": "stdout",
     "output_type": "stream",
     "text": [
      "2.1013376235961916\n",
      "\n",
      "Epoch 50\n"
     ]
    },
    {
     "name": "stderr",
     "output_type": "stream",
     "text": [
      "Train batch: 100%|█████████████████████████████████████████████████| 20/20 [00:00<00:00, 757.72it/s]\n"
     ]
    },
    {
     "name": "stdout",
     "output_type": "stream",
     "text": [
      "2.1008236169815064\n",
      "\n",
      "Epoch 51\n"
     ]
    },
    {
     "name": "stderr",
     "output_type": "stream",
     "text": [
      "Train batch: 100%|█████████████████████████████████████████████████| 20/20 [00:00<00:00, 807.12it/s]\n"
     ]
    },
    {
     "name": "stdout",
     "output_type": "stream",
     "text": [
      "2.1011852622032166\n",
      "\n",
      "Epoch 52\n"
     ]
    },
    {
     "name": "stderr",
     "output_type": "stream",
     "text": [
      "Train batch: 100%|█████████████████████████████████████████████████| 20/20 [00:00<00:00, 647.60it/s]\n"
     ]
    },
    {
     "name": "stdout",
     "output_type": "stream",
     "text": [
      "2.101163017749786\n",
      "\n",
      "Epoch 53\n"
     ]
    },
    {
     "name": "stderr",
     "output_type": "stream",
     "text": [
      "Train batch: 100%|█████████████████████████████████████████████████| 20/20 [00:00<00:00, 700.79it/s]\n"
     ]
    },
    {
     "name": "stdout",
     "output_type": "stream",
     "text": [
      "2.1014131367206574\n",
      "\n",
      "Epoch 54\n"
     ]
    },
    {
     "name": "stderr",
     "output_type": "stream",
     "text": [
      "Train batch: 100%|█████████████████████████████████████████████████| 20/20 [00:00<00:00, 773.79it/s]\n"
     ]
    },
    {
     "name": "stdout",
     "output_type": "stream",
     "text": [
      "2.10111728310585\n",
      "\n",
      "Epoch 55\n"
     ]
    },
    {
     "name": "stderr",
     "output_type": "stream",
     "text": [
      "Train batch: 100%|█████████████████████████████████████████████████| 20/20 [00:00<00:00, 735.76it/s]\n"
     ]
    },
    {
     "name": "stdout",
     "output_type": "stream",
     "text": [
      "2.101088225841522\n",
      "\n",
      "Epoch 56\n"
     ]
    },
    {
     "name": "stderr",
     "output_type": "stream",
     "text": [
      "Train batch: 100%|█████████████████████████████████████████████████| 20/20 [00:00<00:00, 162.66it/s]\n"
     ]
    },
    {
     "name": "stdout",
     "output_type": "stream",
     "text": [
      "2.101225143671036\n",
      "\n",
      "Epoch 57\n"
     ]
    },
    {
     "name": "stderr",
     "output_type": "stream",
     "text": [
      "Train batch: 100%|█████████████████████████████████████████████████| 20/20 [00:00<00:00, 162.09it/s]\n"
     ]
    },
    {
     "name": "stdout",
     "output_type": "stream",
     "text": [
      "2.101114457845688\n",
      "\n",
      "Epoch 58\n"
     ]
    },
    {
     "name": "stderr",
     "output_type": "stream",
     "text": [
      "Train batch: 100%|█████████████████████████████████████████████████| 20/20 [00:00<00:00, 186.16it/s]\n"
     ]
    },
    {
     "name": "stdout",
     "output_type": "stream",
     "text": [
      "2.1010857820510864\n",
      "\n",
      "Epoch 59\n"
     ]
    },
    {
     "name": "stderr",
     "output_type": "stream",
     "text": [
      "Train batch: 100%|█████████████████████████████████████████████████| 20/20 [00:00<00:00, 331.71it/s]\n"
     ]
    },
    {
     "name": "stdout",
     "output_type": "stream",
     "text": [
      "2.1018418073654175\n",
      "\n",
      "Epoch 60\n"
     ]
    },
    {
     "name": "stderr",
     "output_type": "stream",
     "text": [
      "Train batch: 100%|█████████████████████████████████████████████████| 20/20 [00:00<00:00, 344.10it/s]\n"
     ]
    },
    {
     "name": "stdout",
     "output_type": "stream",
     "text": [
      "2.100953608751297\n",
      "\n",
      "Epoch 61\n"
     ]
    },
    {
     "name": "stderr",
     "output_type": "stream",
     "text": [
      "Train batch: 100%|█████████████████████████████████████████████████| 20/20 [00:00<00:00, 573.96it/s]\n"
     ]
    },
    {
     "name": "stdout",
     "output_type": "stream",
     "text": [
      "2.101058232784271\n",
      "\n",
      "Epoch 62\n"
     ]
    },
    {
     "name": "stderr",
     "output_type": "stream",
     "text": [
      "Train batch: 100%|█████████████████████████████████████████████████| 20/20 [00:00<00:00, 543.82it/s]\n"
     ]
    },
    {
     "name": "stdout",
     "output_type": "stream",
     "text": [
      "2.101117753982544\n",
      "\n",
      "Epoch 63\n"
     ]
    },
    {
     "name": "stderr",
     "output_type": "stream",
     "text": [
      "Train batch: 100%|█████████████████████████████████████████████████| 20/20 [00:00<00:00, 596.53it/s]\n"
     ]
    },
    {
     "name": "stdout",
     "output_type": "stream",
     "text": [
      "2.1014589726924897\n",
      "\n",
      "Epoch 64\n"
     ]
    },
    {
     "name": "stderr",
     "output_type": "stream",
     "text": [
      "Train batch: 100%|█████████████████████████████████████████████████| 20/20 [00:00<00:00, 518.21it/s]\n"
     ]
    },
    {
     "name": "stdout",
     "output_type": "stream",
     "text": [
      "2.1010628223419188\n",
      "\n",
      "Epoch 65\n"
     ]
    },
    {
     "name": "stderr",
     "output_type": "stream",
     "text": [
      "Train batch: 100%|█████████████████████████████████████████████████| 20/20 [00:00<00:00, 531.64it/s]\n"
     ]
    },
    {
     "name": "stdout",
     "output_type": "stream",
     "text": [
      "2.1010022342205046\n",
      "\n",
      "Epoch 66\n"
     ]
    },
    {
     "name": "stderr",
     "output_type": "stream",
     "text": [
      "Train batch: 100%|█████████████████████████████████████████████████| 20/20 [00:00<00:00, 397.14it/s]\n"
     ]
    },
    {
     "name": "stdout",
     "output_type": "stream",
     "text": [
      "2.1021363019943236\n",
      "\n",
      "Epoch 67\n"
     ]
    },
    {
     "name": "stderr",
     "output_type": "stream",
     "text": [
      "Train batch: 100%|█████████████████████████████████████████████████| 20/20 [00:00<00:00, 519.72it/s]\n"
     ]
    },
    {
     "name": "stdout",
     "output_type": "stream",
     "text": [
      "2.1026208102703094\n",
      "\n",
      "Epoch 68\n"
     ]
    },
    {
     "name": "stderr",
     "output_type": "stream",
     "text": [
      "Train batch: 100%|█████████████████████████████████████████████████| 20/20 [00:00<00:00, 594.88it/s]\n"
     ]
    },
    {
     "name": "stdout",
     "output_type": "stream",
     "text": [
      "2.1009799361228945\n",
      "\n",
      "Epoch 69\n"
     ]
    },
    {
     "name": "stderr",
     "output_type": "stream",
     "text": [
      "Train batch: 100%|█████████████████████████████████████████████████| 20/20 [00:00<00:00, 563.64it/s]\n"
     ]
    },
    {
     "name": "stdout",
     "output_type": "stream",
     "text": [
      "2.1012660562992096\n",
      "\n",
      "Epoch 70\n"
     ]
    },
    {
     "name": "stderr",
     "output_type": "stream",
     "text": [
      "Train batch: 100%|█████████████████████████████████████████████████| 20/20 [00:00<00:00, 570.58it/s]\n"
     ]
    },
    {
     "name": "stdout",
     "output_type": "stream",
     "text": [
      "2.101359087228775\n",
      "\n",
      "Epoch 71\n"
     ]
    },
    {
     "name": "stderr",
     "output_type": "stream",
     "text": [
      "Train batch: 100%|█████████████████████████████████████████████████| 20/20 [00:00<00:00, 643.74it/s]\n"
     ]
    },
    {
     "name": "stdout",
     "output_type": "stream",
     "text": [
      "2.1012512326240538\n",
      "\n",
      "Epoch 72\n"
     ]
    },
    {
     "name": "stderr",
     "output_type": "stream",
     "text": [
      "Train batch: 100%|█████████████████████████████████████████████████| 20/20 [00:00<00:00, 634.57it/s]\n"
     ]
    },
    {
     "name": "stdout",
     "output_type": "stream",
     "text": [
      "2.100979429483414\n",
      "\n",
      "Epoch 73\n"
     ]
    },
    {
     "name": "stderr",
     "output_type": "stream",
     "text": [
      "Train batch: 100%|█████████████████████████████████████████████████| 20/20 [00:00<00:00, 619.75it/s]\n"
     ]
    },
    {
     "name": "stdout",
     "output_type": "stream",
     "text": [
      "2.1010384559631348\n",
      "\n",
      "Epoch 74\n"
     ]
    },
    {
     "name": "stderr",
     "output_type": "stream",
     "text": [
      "Train batch: 100%|█████████████████████████████████████████████████| 20/20 [00:00<00:00, 536.81it/s]\n"
     ]
    },
    {
     "name": "stdout",
     "output_type": "stream",
     "text": [
      "2.101306217908859\n",
      "\n",
      "Epoch 75\n"
     ]
    },
    {
     "name": "stderr",
     "output_type": "stream",
     "text": [
      "Train batch: 100%|█████████████████████████████████████████████████| 20/20 [00:00<00:00, 607.87it/s]\n"
     ]
    },
    {
     "name": "stdout",
     "output_type": "stream",
     "text": [
      "2.1015519857406617\n",
      "\n",
      "Epoch 76\n"
     ]
    },
    {
     "name": "stderr",
     "output_type": "stream",
     "text": [
      "Train batch: 100%|█████████████████████████████████████████████████| 20/20 [00:00<00:00, 188.10it/s]\n"
     ]
    },
    {
     "name": "stdout",
     "output_type": "stream",
     "text": [
      "2.101641923189163\n",
      "\n",
      "Epoch 77\n"
     ]
    },
    {
     "name": "stderr",
     "output_type": "stream",
     "text": [
      "Train batch: 100%|█████████████████████████████████████████████████| 20/20 [00:00<00:00, 205.03it/s]\n"
     ]
    },
    {
     "name": "stdout",
     "output_type": "stream",
     "text": [
      "2.100980615615845\n",
      "\n",
      "Epoch 78\n"
     ]
    },
    {
     "name": "stderr",
     "output_type": "stream",
     "text": [
      "Train batch: 100%|█████████████████████████████████████████████████| 20/20 [00:00<00:00, 234.56it/s]\n"
     ]
    },
    {
     "name": "stdout",
     "output_type": "stream",
     "text": [
      "2.101700949668884\n",
      "\n",
      "Epoch 79\n"
     ]
    },
    {
     "name": "stderr",
     "output_type": "stream",
     "text": [
      "Train batch: 100%|█████████████████████████████████████████████████| 20/20 [00:00<00:00, 631.94it/s]\n"
     ]
    },
    {
     "name": "stdout",
     "output_type": "stream",
     "text": [
      "2.101086986064911\n",
      "\n",
      "Epoch 80\n"
     ]
    },
    {
     "name": "stderr",
     "output_type": "stream",
     "text": [
      "Train batch: 100%|█████████████████████████████████████████████████| 20/20 [00:00<00:00, 614.83it/s]\n"
     ]
    },
    {
     "name": "stdout",
     "output_type": "stream",
     "text": [
      "2.1015554487705232\n",
      "\n",
      "Epoch 81\n"
     ]
    },
    {
     "name": "stderr",
     "output_type": "stream",
     "text": [
      "Train batch: 100%|█████████████████████████████████████████████████| 20/20 [00:00<00:00, 608.20it/s]\n"
     ]
    },
    {
     "name": "stdout",
     "output_type": "stream",
     "text": [
      "2.101079612970352\n",
      "\n",
      "Epoch 82\n"
     ]
    },
    {
     "name": "stderr",
     "output_type": "stream",
     "text": [
      "Train batch: 100%|█████████████████████████████████████████████████| 20/20 [00:00<00:00, 595.71it/s]\n"
     ]
    },
    {
     "name": "stdout",
     "output_type": "stream",
     "text": [
      "2.1011262834072113\n",
      "\n",
      "Epoch 83\n"
     ]
    },
    {
     "name": "stderr",
     "output_type": "stream",
     "text": [
      "Train batch: 100%|█████████████████████████████████████████████████| 20/20 [00:00<00:00, 234.05it/s]\n"
     ]
    },
    {
     "name": "stdout",
     "output_type": "stream",
     "text": [
      "2.101867514848709\n",
      "\n",
      "Epoch 84\n"
     ]
    },
    {
     "name": "stderr",
     "output_type": "stream",
     "text": [
      "Train batch: 100%|█████████████████████████████████████████████████| 20/20 [00:00<00:00, 705.01it/s]\n"
     ]
    },
    {
     "name": "stdout",
     "output_type": "stream",
     "text": [
      "2.101364994049072\n",
      "\n",
      "Epoch 85\n"
     ]
    },
    {
     "name": "stderr",
     "output_type": "stream",
     "text": [
      "Train batch: 100%|█████████████████████████████████████████████████| 20/20 [00:00<00:00, 615.91it/s]\n"
     ]
    },
    {
     "name": "stdout",
     "output_type": "stream",
     "text": [
      "2.1010745584964754\n",
      "\n",
      "Epoch 86\n"
     ]
    },
    {
     "name": "stderr",
     "output_type": "stream",
     "text": [
      "Train batch: 100%|█████████████████████████████████████████████████| 20/20 [00:00<00:00, 424.11it/s]\n"
     ]
    },
    {
     "name": "stdout",
     "output_type": "stream",
     "text": [
      "2.1017433941364287\n",
      "\n",
      "Epoch 87\n"
     ]
    },
    {
     "name": "stderr",
     "output_type": "stream",
     "text": [
      "Train batch: 100%|█████████████████████████████████████████████████| 20/20 [00:00<00:00, 667.66it/s]\n"
     ]
    },
    {
     "name": "stdout",
     "output_type": "stream",
     "text": [
      "2.1011597216129303\n",
      "\n",
      "Epoch 88\n"
     ]
    },
    {
     "name": "stderr",
     "output_type": "stream",
     "text": [
      "Train batch: 100%|█████████████████████████████████████████████████| 20/20 [00:00<00:00, 668.80it/s]\n"
     ]
    },
    {
     "name": "stdout",
     "output_type": "stream",
     "text": [
      "2.101567494869232\n",
      "\n",
      "Epoch 89\n"
     ]
    },
    {
     "name": "stderr",
     "output_type": "stream",
     "text": [
      "Train batch: 100%|█████████████████████████████████████████████████| 20/20 [00:00<00:00, 596.66it/s]\n"
     ]
    },
    {
     "name": "stdout",
     "output_type": "stream",
     "text": [
      "2.1014993250370027\n",
      "\n",
      "Epoch 90\n"
     ]
    },
    {
     "name": "stderr",
     "output_type": "stream",
     "text": [
      "Train batch: 100%|█████████████████████████████████████████████████| 20/20 [00:00<00:00, 643.54it/s]\n"
     ]
    },
    {
     "name": "stdout",
     "output_type": "stream",
     "text": [
      "2.1028930306434632\n",
      "\n",
      "Epoch 91\n"
     ]
    },
    {
     "name": "stderr",
     "output_type": "stream",
     "text": [
      "Train batch: 100%|█████████████████████████████████████████████████| 20/20 [00:00<00:00, 472.56it/s]\n"
     ]
    },
    {
     "name": "stdout",
     "output_type": "stream",
     "text": [
      "2.1014859437942506\n",
      "\n",
      "Epoch 92\n"
     ]
    },
    {
     "name": "stderr",
     "output_type": "stream",
     "text": [
      "Train batch: 100%|█████████████████████████████████████████████████| 20/20 [00:00<00:00, 535.34it/s]\n"
     ]
    },
    {
     "name": "stdout",
     "output_type": "stream",
     "text": [
      "2.101440793275833\n",
      "\n",
      "Epoch 93\n"
     ]
    },
    {
     "name": "stderr",
     "output_type": "stream",
     "text": [
      "Train batch: 100%|█████████████████████████████████████████████████| 20/20 [00:00<00:00, 628.51it/s]\n"
     ]
    },
    {
     "name": "stdout",
     "output_type": "stream",
     "text": [
      "2.101458877325058\n",
      "\n",
      "Epoch 94\n"
     ]
    },
    {
     "name": "stderr",
     "output_type": "stream",
     "text": [
      "Train batch: 100%|█████████████████████████████████████████████████| 20/20 [00:00<00:00, 527.48it/s]\n"
     ]
    },
    {
     "name": "stdout",
     "output_type": "stream",
     "text": [
      "2.101217991113663\n",
      "\n",
      "Epoch 95\n"
     ]
    },
    {
     "name": "stderr",
     "output_type": "stream",
     "text": [
      "Train batch: 100%|█████████████████████████████████████████████████| 20/20 [00:00<00:00, 155.40it/s]\n"
     ]
    },
    {
     "name": "stdout",
     "output_type": "stream",
     "text": [
      "2.1015065371990205\n",
      "\n",
      "Epoch 96\n"
     ]
    },
    {
     "name": "stderr",
     "output_type": "stream",
     "text": [
      "Train batch: 100%|█████████████████████████████████████████████████| 20/20 [00:00<00:00, 223.56it/s]\n"
     ]
    },
    {
     "name": "stdout",
     "output_type": "stream",
     "text": [
      "2.1014410853385925\n",
      "\n",
      "Epoch 97\n"
     ]
    },
    {
     "name": "stderr",
     "output_type": "stream",
     "text": [
      "Train batch: 100%|█████████████████████████████████████████████████| 20/20 [00:00<00:00, 179.15it/s]\n"
     ]
    },
    {
     "name": "stdout",
     "output_type": "stream",
     "text": [
      "2.101535105705261\n",
      "\n",
      "Epoch 98\n"
     ]
    },
    {
     "name": "stderr",
     "output_type": "stream",
     "text": [
      "Train batch: 100%|█████████████████████████████████████████████████| 20/20 [00:00<00:00, 298.57it/s]\n"
     ]
    },
    {
     "name": "stdout",
     "output_type": "stream",
     "text": [
      "2.10103754401207\n",
      "\n",
      "Epoch 99\n"
     ]
    },
    {
     "name": "stderr",
     "output_type": "stream",
     "text": [
      "Train batch: 100%|█████████████████████████████████████████████████| 20/20 [00:00<00:00, 195.97it/s]\n"
     ]
    },
    {
     "name": "stdout",
     "output_type": "stream",
     "text": [
      "2.101997804641724\n",
      "\n",
      "Epoch 100\n"
     ]
    },
    {
     "name": "stderr",
     "output_type": "stream",
     "text": [
      "Train batch: 100%|█████████████████████████████████████████████████| 20/20 [00:00<00:00, 322.13it/s]"
     ]
    },
    {
     "name": "stdout",
     "output_type": "stream",
     "text": [
      "2.1017104566097258\n",
      "\n"
     ]
    },
    {
     "name": "stderr",
     "output_type": "stream",
     "text": [
      "\n"
     ]
    }
   ],
   "source": [
    "flow, losses = trainer(\n",
    "    flow,\n",
    "    x,\n",
    "    contexts=None,\n",
    "    inputs_valid=None,\n",
    "    contexts_valid=None,\n",
    "    loss=None,\n",
    "    optimizer='adam',\n",
    "    learning_rate=1e-3,\n",
    "    weight_decay=0,\n",
    "    epochs=100,\n",
    "    batch_size=50,\n",
    "    batch_size_valid='train',\n",
    "    shuffle=True,\n",
    "    reduce=None,\n",
    "    stop=None,\n",
    "    stop_if_inf=True,\n",
    "    verbose=True,\n",
    "    save=None,\n",
    "    seed=None,\n",
    "    )"
   ]
  },
  {
   "cell_type": "code",
   "execution_count": 6,
   "id": "5d723842-aed3-4aee-a4ee-c84c981cbe64",
   "metadata": {},
   "outputs": [
    {
     "data": {
      "image/png": "[encoded data removed]",
      "text/plain": [
       "<Figure size 640x480 with 1 Axes>"
      ]
     },
     "metadata": {},
     "output_type": "display_data"
    }
   ],
   "source": [
    "plt.plot(losses['train']);"
   ]
  },
  {
   "cell_type": "code",
   "execution_count": 7,
   "id": "92218e4f-13c5-4124-a821-46d9aff6d75e",
   "metadata": {},
   "outputs": [],
   "source": [
    "with torch.inference_mode():\n",
    "    y = flow.sample(1_000).squeeze().numpy()"
   ]
  },
  {
   "cell_type": "code",
   "execution_count": 8,
   "id": "9d7bd0e7-9d58-41b8-83a1-aee87dd9dc62",
   "metadata": {},
   "outputs": [
    {
     "data": {
      "image/png": "[encoded data removed]",
      "text/plain": [
       "<Figure size 640x480 with 1 Axes>"
      ]
     },
     "metadata": {},
     "output_type": "display_data"
    }
   ],
   "source": [
    "plt.hist(x, density=True, histtype='step')\n",
    "plt.hist(y, density=True, histtype='step');"
   ]
  },
  {
   "cell_type": "code",
   "execution_count": null,
   "id": "22613b75-b74f-4574-9d0c-b12feee7df2e",
   "metadata": {},
   "outputs": [],
   "source": []
  }
 ],
 "metadata": {
  "kernelspec": {
   "display_name": "shallow",
   "language": "python",
   "name": "shallow"
  },
  "language_info": {
   "codemirror_mode": {
    "name": "ipython",
    "version": 3
   },
   "file_extension": ".py",
   "mimetype": "text/x-python",
   "name": "python",
   "nbconvert_exporter": "python",
   "pygments_lexer": "ipython3",
   "version": "3.10.13"
  }
 },
 "nbformat": 4,
 "nbformat_minor": 5
}
