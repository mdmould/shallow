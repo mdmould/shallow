{
 "cells": [
  {
   "cell_type": "code",
   "execution_count": null,
   "id": "2dca3aee-35f4-44cf-9d87-6c807cdbe17c",
   "metadata": {},
   "outputs": [],
   "source": [
    "import jax\n",
    "import jax.numpy as jnp\n",
    "import jax_tqdm\n",
    "import equinox\n",
    "import optax\n",
    "\n",
    "from flowjax.distributions import StandardNormal\n",
    "from flowjax.bijections import RationalQuadraticSpline\n",
    "from flowjax.flows import coupling_flow\n",
    "\n",
    "from shallow.jax.flows import bound_from_unbound"
   ]
  },
  {
   "cell_type": "code",
   "execution_count": null,
   "id": "89ddd966-25d4-42d3-9b53-fe65c6cfbe0c",
   "metadata": {},
   "outputs": [],
   "source": []
  }
 ],
 "metadata": {
  "kernelspec": {
   "display_name": "playground",
   "language": "python",
   "name": "playground"
  },
  "language_info": {
   "codemirror_mode": {
    "name": "ipython",
    "version": 3
   },
   "file_extension": ".py",
   "mimetype": "text/x-python",
   "name": "python",
   "nbconvert_exporter": "python",
   "pygments_lexer": "ipython3",
   "version": "3.11.5"
  }
 },
 "nbformat": 4,
 "nbformat_minor": 5
}
