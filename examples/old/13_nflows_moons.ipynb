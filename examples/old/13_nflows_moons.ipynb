{
 "cells": [
  {
   "cell_type": "code",
   "execution_count": null,
   "id": "4fcbad03-d65a-4c93-9d24-45f79394d034",
   "metadata": {},
   "outputs": [],
   "source": [
    "import numpy as np\n",
    "from tqdm import tqdm\n",
    "import matplotlib.pyplot as plt\n",
    "import sklearn.datasets as datasets\n",
    "\n",
    "import torch\n",
    "from torch import nn\n",
    "from torch import optim\n",
    "\n",
    "from nflows.flows.base import Flow\n",
    "from nflows.distributions.normal import ConditionalDiagonalNormal\n",
    "from nflows.transforms.base import CompositeTransform\n",
    "from nflows.transforms.autoregressive import MaskedAffineAutoregressiveTransform\n",
    "from nflows.transforms.permutations import ReversePermutation\n",
    "\n",
    "from nflows.distributions.normal import StandardNormal"
   ]
  },
  {
   "cell_type": "code",
   "execution_count": null,
   "id": "d24c68b6-4e8a-4100-85c4-7f5aec461171",
   "metadata": {},
   "outputs": [],
   "source": [
    "seed = 42\n",
    "np.random.seed(seed)"
   ]
  },
  {
   "cell_type": "code",
   "execution_count": null,
   "id": "297bf6b3-cfe7-4043-997a-747c10215c98",
   "metadata": {},
   "outputs": [],
   "source": [
    "x, y = datasets.make_moons(128, noise=.1)\n",
    "plt.scatter(x[:, 0], x[:, 1], c=y);"
   ]
  },
  {
   "cell_type": "code",
   "execution_count": null,
   "id": "c8c3363b-a9f9-4614-a400-ce088e682b21",
   "metadata": {},
   "outputs": [],
   "source": [
    "num_layers = 3\n",
    "\n",
    "# base_dist = ConditionalDiagonalNormal(\n",
    "#     shape=[2], context_encoder=nn.Linear(1, 4),\n",
    "#     )\n",
    "base_dist = StandardNormal([2])\n",
    "\n",
    "transforms = []\n",
    "for _ in range(num_layers):\n",
    "    transforms.append(ReversePermutation(features=2))\n",
    "    transforms.append(\n",
    "        MaskedAffineAutoregressiveTransform(\n",
    "            features=2, hidden_features=128, context_features=1,\n",
    "            )\n",
    "        )\n",
    "transform = CompositeTransform(transforms)\n",
    "\n",
    "flow = Flow(transform, base_dist)\n",
    "optimizer = optim.Adam(flow.parameters())"
   ]
  },
  {
   "cell_type": "code",
   "execution_count": null,
   "id": "5f96a985-982d-4511-a896-6932b34b4c61",
   "metadata": {},
   "outputs": [],
   "source": [
    "num_iter = 5000\n",
    "\n",
    "for i in tqdm(range(num_iter)):\n",
    "    \n",
    "    x, y = datasets.make_moons(128, noise=.1)\n",
    "    x = torch.tensor(x, dtype=torch.float32)\n",
    "    y = torch.tensor(y, dtype=torch.float32).reshape(-1, 1)\n",
    "    \n",
    "    optimizer.zero_grad()\n",
    "    loss = -flow.log_prob(inputs=x, context=y).mean()\n",
    "    loss.backward()\n",
    "    optimizer.step()\n",
    "    \n",
    "    if (i + 1) % 500 == 0:\n",
    "        \n",
    "        fig, ax = plt.subplots(1, 2)\n",
    "        xline = torch.linspace(-1.5, 2.5)\n",
    "        yline = torch.linspace(-.75, 1.25)\n",
    "        xgrid, ygrid = torch.meshgrid(xline, yline)\n",
    "        xyinput = torch.cat([xgrid.reshape(-1, 1), ygrid.reshape(-1, 1)], dim=1)\n",
    "\n",
    "        with torch.no_grad():\n",
    "            zgrid0 = flow.log_prob(xyinput, torch.zeros(10000, 1)).exp().reshape(100, 100)\n",
    "            zgrid1 = flow.log_prob(xyinput, torch.ones(10000, 1)).exp().reshape(100, 100)\n",
    "\n",
    "        ax[0].contourf(xgrid.numpy(), ygrid.numpy(), zgrid0.numpy())\n",
    "        ax[1].contourf(xgrid.numpy(), ygrid.numpy(), zgrid1.numpy())\n",
    "        plt.title('iteration {}'.format(i + 1))\n",
    "        plt.show()"
   ]
  },
  {
   "cell_type": "code",
   "execution_count": null,
   "id": "ee339c63-02ab-41c5-a2d2-7130b4a0d912",
   "metadata": {},
   "outputs": [],
   "source": []
  }
 ],
 "metadata": {
  "kernelspec": {
   "display_name": "shallow",
   "language": "python",
   "name": "shallow"
  },
  "language_info": {
   "codemirror_mode": {
    "name": "ipython",
    "version": 3
   },
   "file_extension": ".py",
   "mimetype": "text/x-python",
   "name": "python",
   "nbconvert_exporter": "python",
   "pygments_lexer": "ipython3",
   "version": "3.9.13"
  }
 },
 "nbformat": 4,
 "nbformat_minor": 5
}
