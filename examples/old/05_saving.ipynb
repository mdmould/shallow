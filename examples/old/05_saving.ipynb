{
 "cells": [
  {
   "cell_type": "code",
   "execution_count": null,
   "id": "6bdc9de4-6c5b-443f-a14e-e808fb6ea192",
   "metadata": {},
   "outputs": [],
   "source": [
    "import numpy as np\n",
    "import h5py\n",
    "import matplotlib.pyplot as plt\n",
    "import corner\n",
    "import tensorflow as tf\n",
    "import tensorflow_addons as tfa\n",
    "import tensorflow_probability as tfp\n",
    "\n",
    "tfd = tfp.distributions\n",
    "tfb = tfp.bijectors"
   ]
  },
  {
   "cell_type": "code",
   "execution_count": null,
   "id": "9d3b8af1-d94d-4190-b97d-955cbe19220d",
   "metadata": {},
   "outputs": [],
   "source": [
    "n_samples = 1000\n",
    "\n",
    "data = np.random.uniform(size=[n_samples, 1])"
   ]
  },
  {
   "cell_type": "code",
   "execution_count": null,
   "id": "6e391008-341c-4462-8052-b7f8403ebd7e",
   "metadata": {},
   "outputs": [],
   "source": [
    "def define_nf():\n",
    "    \n",
    "    return tfd.TransformedDistribution(\n",
    "        distribution=tfd.Sample(tfd.Normal(loc=0., scale=1.), sample_shape=[1]),\n",
    "        bijector=tfb.MaskedAutoregressiveFlow(tfb.AutoregressiveNetwork(\n",
    "            params=2,\n",
    "            hidden_units=[4],\n",
    "            activation='relu',\n",
    "            )),\n",
    "        )"
   ]
  },
  {
   "cell_type": "code",
   "execution_count": null,
   "id": "f73ec256-c639-4f12-8850-fa0c27b61353",
   "metadata": {},
   "outputs": [],
   "source": [
    "nf = define_nf()"
   ]
  },
  {
   "cell_type": "code",
   "execution_count": null,
   "id": "b7ad2a0d-b706-432a-987a-2c5d17d1560e",
   "metadata": {},
   "outputs": [],
   "source": [
    "def define_model(nf):\n",
    "    \n",
    "    x = tf.keras.Input(shape=[1], dtype=tf.float32)\n",
    "\n",
    "    return tf.keras.Model(inputs=x, outputs=nf.log_prob(x))"
   ]
  },
  {
   "cell_type": "code",
   "execution_count": null,
   "id": "2e9010be-ae67-42cc-ae0f-3cad6be793bc",
   "metadata": {},
   "outputs": [],
   "source": [
    "model = define_model(nf)\n",
    "model.compile(\n",
    "    optimizer=tf.optimizers.Adam(),\n",
    "    loss=lambda _, log_prob: -log_prob,\n",
    "    )"
   ]
  },
  {
   "cell_type": "code",
   "execution_count": null,
   "id": "28ad89f0-58cd-4c2f-a411-c2efae91ec70",
   "metadata": {},
   "outputs": [],
   "source": [
    "nf.variables, model.weights"
   ]
  },
  {
   "cell_type": "code",
   "execution_count": null,
   "id": "37a44c05-6d7b-4021-b1fd-b4033edf93bd",
   "metadata": {},
   "outputs": [],
   "source": [
    "xx = np.linspace(-.5, 1.5, 100)\n",
    "px = np.exp(nf.log_prob(xx[:, None]))\n",
    "plt.plot(xx, px);"
   ]
  },
  {
   "cell_type": "code",
   "execution_count": null,
   "id": "9d900b7c-d7af-45fd-bd2e-b93d0ebfd7cd",
   "metadata": {
    "scrolled": true,
    "tags": []
   },
   "outputs": [],
   "source": [
    "callbacks = [\n",
    "    tf.keras.callbacks.ModelCheckpoint(\n",
    "        filepath='./saving.hdf5',\n",
    "        monitor='loss',\n",
    "        mode='min',\n",
    "        save_weights_only=True,\n",
    "        save_best_only=True,\n",
    "        save_freq='epoch',\n",
    "        verbose=1,\n",
    "        ),\n",
    "    ]\n",
    "\n",
    "result = model.fit(\n",
    "    x=data, y=np.zeros(n_samples), epochs=10, callbacks=callbacks,\n",
    "    )"
   ]
  },
  {
   "cell_type": "code",
   "execution_count": null,
   "id": "41342979-02c0-4b49-8161-a382c23d8b5f",
   "metadata": {},
   "outputs": [],
   "source": [
    "nf.variables, model.weights"
   ]
  },
  {
   "cell_type": "code",
   "execution_count": null,
   "id": "befb800f-17e5-4606-9c21-97465d1b8806",
   "metadata": {},
   "outputs": [],
   "source": [
    "plt.plot(xx, px)\n",
    "\n",
    "px = np.exp(nf.log_prob(xx[:, None]))\n",
    "plt.plot(xx, px)\n",
    "\n",
    "px_ = np.exp(model.predict_on_batch(xx))\n",
    "plt.plot(xx, px_, ls='--');"
   ]
  },
  {
   "cell_type": "code",
   "execution_count": null,
   "id": "5716e332-15b4-4942-a1a4-df768e3171b0",
   "metadata": {},
   "outputs": [],
   "source": [
    "with h5py.File('./saving.hdf5', 'r') as h:\n",
    "    print(h.keys())"
   ]
  },
  {
   "cell_type": "code",
   "execution_count": null,
   "id": "f58da1cd-2eeb-4eb8-abac-0f2f7c04ccfb",
   "metadata": {},
   "outputs": [],
   "source": [
    "nf = define_nf()\n",
    "model = define_model(nf)\n",
    "nf.variables, model.weights"
   ]
  },
  {
   "cell_type": "code",
   "execution_count": null,
   "id": "9fc75c69-3d8a-4387-a387-8cc90934bef4",
   "metadata": {},
   "outputs": [],
   "source": [
    "model.load_weights('./saving.hdf5')\n",
    "nf.variables, model.weights"
   ]
  },
  {
   "cell_type": "code",
   "execution_count": null,
   "id": "f4b25ef3-7824-4864-82a6-901e7bd785aa",
   "metadata": {},
   "outputs": [],
   "source": [
    "plt.plot(xx, px, lw=10)\n",
    "\n",
    "px = np.exp(nf.log_prob(xx[:, None]))\n",
    "plt.plot(xx, px, lw=5)\n",
    "\n",
    "px_ = np.exp(model.predict_on_batch(xx))\n",
    "plt.plot(xx, px_, ls='--', lw=2);"
   ]
  },
  {
   "cell_type": "code",
   "execution_count": null,
   "id": "c1027440-5e6d-43c9-a50f-df03d9384f4a",
   "metadata": {},
   "outputs": [],
   "source": []
  }
 ],
 "metadata": {
  "kernelspec": {
   "display_name": "probflow",
   "language": "python",
   "name": "probflow"
  },
  "language_info": {
   "codemirror_mode": {
    "name": "ipython",
    "version": 3
   },
   "file_extension": ".py",
   "mimetype": "text/x-python",
   "name": "python",
   "nbconvert_exporter": "python",
   "pygments_lexer": "ipython3",
   "version": "3.9.13"
  }
 },
 "nbformat": 4,
 "nbformat_minor": 5
}
