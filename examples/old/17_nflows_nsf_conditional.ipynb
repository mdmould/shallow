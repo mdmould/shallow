{
 "cells": [
  {
   "cell_type": "code",
   "execution_count": null,
   "id": "6e0e2ec2-a8d9-4e87-8107-7fc50f206368",
   "metadata": {},
   "outputs": [],
   "source": [
    "import numpy as np\n",
    "import matplotlib.pyplot as plt\n",
    "from sklearn import datasets\n",
    "import torch\n",
    "from copy import deepcopy\n",
    "\n",
    "from nflows.utils import tensor2numpy, create_mid_split_binary_mask\n",
    "from nflows.distributions import StandardNormal\n",
    "from nflows.transforms import (\n",
    "    CompositeTransform, \n",
    "    InverseTransform,\n",
    "    BatchNorm,\n",
    "    PointwiseAffineTransform,\n",
    "    Tanh,\n",
    "    ReversePermutation,\n",
    "    MaskedAffineAutoregressiveTransform as MAF,\n",
    "    MaskedPiecewiseRationalQuadraticAutoregressiveTransform as RQ_NSF_AR,\n",
    "    PiecewiseRationalQuadraticCouplingTransform as RQ_NSF_C,\n",
    "    )\n",
    "from nflows.nn.nets import ResidualNet\n",
    "from nflows.flows.base import Flow\n",
    "\n",
    "device = torch.device('cpu')"
   ]
  },
  {
   "cell_type": "code",
   "execution_count": null,
   "id": "a48473ea-5a5a-4ddc-ad5e-adb5a2344a06",
   "metadata": {},
   "outputs": [],
   "source": [
    "x, y = datasets.make_moons(1_000, noise=.1)\n",
    "plt.scatter(*x.T, c=y);"
   ]
  },
  {
   "cell_type": "markdown",
   "id": "b7ae4b79-7695-48a7-b932-d9c82641f603",
   "metadata": {},
   "source": [
    "## RQ-NSF-C"
   ]
  },
  {
   "cell_type": "code",
   "execution_count": null,
   "id": "eb54a518-f5c1-48df-92f2-f4c390d5a4e4",
   "metadata": {},
   "outputs": [],
   "source": [
    "num_layers = 5\n",
    "hidden_features = 100\n",
    "num_blocks = 2\n",
    "activation = torch.relu\n",
    "num_bins = 5\n",
    "tails = 'linear'\n",
    "tail_bound = 5.\n",
    "\n",
    "base_dist = StandardNormal(shape=[2])\n",
    "\n",
    "transforms = []\n",
    "for _ in range(num_layers):\n",
    "    transforms.append(RQ_NSF_C(\n",
    "        mask=create_mid_split_binary_mask(2),\n",
    "        transform_net_create_fn=lambda in_features, out_features: ResidualNet(\n",
    "            in_features,\n",
    "            out_features,\n",
    "            hidden_features=hidden_features,\n",
    "            context_features=1,\n",
    "            num_blocks=num_blocks,\n",
    "            activation=activation,\n",
    "            dropout_probability=0.,\n",
    "            use_batch_norm=False,\n",
    "            ),\n",
    "        num_bins=num_bins,\n",
    "        tails=tails,\n",
    "        tail_bound=tail_bound,\n",
    "        # apply_unconditional_transform=False,\n",
    "        # img_shape=None,\n",
    "        # min_bin_width=splines.rational_quadratic.DEFAULT_MIN_BIN_WIDTH,\n",
    "        # min_bin_height=splines.rational_quadratic.DEFAULT_MIN_BIN_HEIGHT,\n",
    "        # min_derivative=splines.rational_quadratic.DEFAULT_MIN_DERIVATIVE,\n",
    "        ))\n",
    "    transforms.append(ReversePermutation(features=2))\n",
    "    # transforms.append(BatchNorm())\n",
    "transform = CompositeTransform(transforms)\n",
    "\n",
    "flow = Flow(transform, base_dist).to(device)"
   ]
  },
  {
   "cell_type": "code",
   "execution_count": null,
   "id": "b0b0becb-52bd-40cf-a1ed-8abba3ed1d3c",
   "metadata": {
    "scrolled": true,
    "tags": []
   },
   "outputs": [],
   "source": [
    "epochs = 1000\n",
    "batch_size = 128\n",
    "lr = 1e-3\n",
    "\n",
    "optimizer = torch.optim.Adam(flow.parameters(), lr=lr)\n",
    "best_epoch = 0\n",
    "best_loss = np.inf\n",
    "\n",
    "for epoch in range(epochs):    \n",
    "    x, y = datasets.make_moons(128, noise=.1)\n",
    "    x = torch.tensor(x, dtype=torch.float32).to(device)\n",
    "    y = torch.tensor(y[:, None], dtype=torch.float32).to(device)\n",
    "    \n",
    "    optimizer.zero_grad()\n",
    "    loss = -flow.log_prob(inputs=x, context=y).mean()\n",
    "    loss.backward()\n",
    "    optimizer.step()\n",
    "    \n",
    "    if loss < best_loss:\n",
    "        best_epoch = epoch\n",
    "        best_loss = loss\n",
    "        best_flow = deepcopy(flow)\n",
    "        \n",
    "    print(epoch, float(loss))"
   ]
  },
  {
   "cell_type": "code",
   "execution_count": null,
   "id": "1092751c-6017-469b-a6fc-323cda54eca6",
   "metadata": {},
   "outputs": [],
   "source": [
    "plt.scatter(\n",
    "    *best_flow.sample(\n",
    "        1_000, torch.tensor([[0.]]),\n",
    "        )[0].detach().numpy().T,\n",
    "    );"
   ]
  },
  {
   "cell_type": "code",
   "execution_count": null,
   "id": "557996f7-90bd-441c-94bf-0c4d987e395f",
   "metadata": {},
   "outputs": [],
   "source": [
    "zgrid = torch.zeros(xy.shape[0])\n",
    "zgrid.shape"
   ]
  },
  {
   "cell_type": "code",
   "execution_count": null,
   "id": "6323db04-a64c-4886-98b7-c62c1d351322",
   "metadata": {},
   "outputs": [],
   "source": [
    "p = 3\n",
    "n = 200\n",
    "\n",
    "x = np.linspace(-p, p, n)\n",
    "y = np.linspace(-p, p, n)\n",
    "xgrid, ygrid = np.meshgrid(x, y)\n",
    "xy = np.concatenate(\n",
    "    [xgrid.reshape(-1, 1), ygrid.reshape(-1, 1)],\n",
    "    axis=1,\n",
    "    dtype=np.float32,\n",
    "    )\n",
    "\n",
    "with torch.no_grad():\n",
    "    zgrid = torch.zeros(xy.shape[0])\n",
    "    for context in [0., 1.]:\n",
    "        zgrid += best_flow.log_prob(\n",
    "            torch.tensor(xy), torch.tensor([[context]]*xy.shape[0]),\n",
    "            ).exp()#.reshape(n, n)\n",
    "        \n",
    "plt.imshow(\n",
    "    zgrid.numpy().reshape(n, n),\n",
    "    origin='lower',\n",
    "    aspect='equal',\n",
    "    extent=(-p, p, -p, p),\n",
    "    );"
   ]
  },
  {
   "cell_type": "code",
   "execution_count": null,
   "id": "1c925a50-2393-4004-9e3d-b232e85455be",
   "metadata": {},
   "outputs": [],
   "source": []
  }
 ],
 "metadata": {
  "kernelspec": {
   "display_name": "shallow",
   "language": "python",
   "name": "shallow"
  },
  "language_info": {
   "codemirror_mode": {
    "name": "ipython",
    "version": 3
   },
   "file_extension": ".py",
   "mimetype": "text/x-python",
   "name": "python",
   "nbconvert_exporter": "python",
   "pygments_lexer": "ipython3",
   "version": "3.9.13"
  }
 },
 "nbformat": 4,
 "nbformat_minor": 5
}
